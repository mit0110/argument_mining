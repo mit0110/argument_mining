{
 "cells": [
  {
   "cell_type": "code",
   "execution_count": 7,
   "metadata": {
    "ExecuteTime": {
     "end_time": "2019-09-01T00:06:35.124315Z",
     "start_time": "2019-09-01T00:06:35.119360Z"
    }
   },
   "outputs": [],
   "source": [
    "import sys\n",
    "import os\n",
    "parent = os.path.abspath('..')\n",
    "sys.path.insert(0, parent)"
   ]
  },
  {
   "cell_type": "code",
   "execution_count": 8,
   "metadata": {
    "ExecuteTime": {
     "end_time": "2019-09-01T00:06:37.324775Z",
     "start_time": "2019-09-01T00:06:35.293371Z"
    }
   },
   "outputs": [
    {
     "name": "stderr",
     "output_type": "stream",
     "text": [
      "Using TensorFlow backend.\n"
     ]
    }
   ],
   "source": [
    "import keras\n",
    "import tensorflow as tf\n",
    "import utils\n",
    "from collections import defaultdict\n",
    "from models import selfatt_arg_bilstm\n",
    "from termcolor import colored\n",
    "\n",
    "import importlib"
   ]
  },
  {
   "cell_type": "code",
   "execution_count": 9,
   "metadata": {
    "ExecuteTime": {
     "end_time": "2019-09-01T00:06:37.330340Z",
     "start_time": "2019-09-01T00:06:37.327439Z"
    }
   },
   "outputs": [],
   "source": [
    "def load_dataset(filename):\n",
    "    pickled_object = utils.pickle_from_file(filename)\n",
    "    return (pickled_object['embeddings'], pickled_object['mappings'],\n",
    "            pickled_object['data'], pickled_object['datasets'])"
   ]
  },
  {
   "cell_type": "code",
   "execution_count": 10,
   "metadata": {
    "ExecuteTime": {
     "end_time": "2019-09-01T00:06:37.383766Z",
     "start_time": "2019-09-01T00:06:37.332079Z"
    }
   },
   "outputs": [],
   "source": [
    "MODELS = {\n",
    "    '19-08-28-13-02' : {\n",
    "        'classifier': 'Softmax',\n",
    "        'LSTM-Size': [32, 32],\n",
    "        'dropout': [0.1, 0.1],\n",
    "        'charEmbeddingsSize': 32, 'charEmbeddings': 'None',\n",
    "        'miniBatchSize': 32, 'earlyStopping': 10,\n",
    "        'n_heads': 4, 'attention_size': 256\n",
    "    },\n",
    "    '19-08-31-20-28': {\n",
    "        'classifier': 'CRF',\n",
    "        'LSTM-Size': [64, 64],\n",
    "        'dropout': [0.5, 0.5],\n",
    "        'charEmbeddingsSize': 32, 'charEmbeddings': 'lstm',\n",
    "        'miniBatchSize': 64, 'earlyStopping': 10,\n",
    "        'n_heads': 4, 'attention_size': 256\n",
    "    }\n",
    "}"
   ]
  },
  {
   "cell_type": "code",
   "execution_count": 11,
   "metadata": {
    "ExecuteTime": {
     "end_time": "2019-09-01T00:06:37.442682Z",
     "start_time": "2019-09-01T00:06:37.385978Z"
    }
   },
   "outputs": [],
   "source": [
    "experiment = '19-08-31-20-28'\n",
    "classifier_params = MODELS[experiment]"
   ]
  },
  {
   "cell_type": "code",
   "execution_count": 12,
   "metadata": {
    "ExecuteTime": {
     "end_time": "2019-09-01T00:06:38.265903Z",
     "start_time": "2019-09-01T00:06:37.445775Z"
    }
   },
   "outputs": [],
   "source": [
    "embeddings, mappings, data, datasets = load_dataset(\n",
    "    '../../data/essays2/essays2_komninos_e.p')"
   ]
  },
  {
   "cell_type": "code",
   "execution_count": 13,
   "metadata": {
    "ExecuteTime": {
     "end_time": "2019-09-01T00:06:43.502515Z",
     "start_time": "2019-09-01T00:06:38.269988Z"
    }
   },
   "outputs": [],
   "source": [
    "import importlib\n",
    "importlib.reload(selfatt_arg_bilstm)\n",
    "self_att_model = selfatt_arg_bilstm.SelfAttArgBiLSTM(classifier_params)\n",
    "self_att_model.setMappings(mappings, embeddings)\n",
    "self_att_model.setDataset(datasets, data)"
   ]
  },
  {
   "cell_type": "code",
   "execution_count": 14,
   "metadata": {
    "ExecuteTime": {
     "end_time": "2019-09-01T00:06:47.558664Z",
     "start_time": "2019-09-01T00:06:43.504799Z"
    },
    "scrolled": true
   },
   "outputs": [
    {
     "name": "stderr",
     "output_type": "stream",
     "text": [
      "WARNING: Logging before flag parsing goes to stderr.\n",
      "W0831 21:06:44.357831 140160844097344 deprecation_wrapper.py:119] From /home/mteruel/anaconda2/envs/env35/lib/python3.6/site-packages/keras/backend/tensorflow_backend.py:517: The name tf.placeholder is deprecated. Please use tf.compat.v1.placeholder instead.\n",
      "\n",
      "W0831 21:06:44.363073 140160844097344 deprecation_wrapper.py:119] From /home/mteruel/anaconda2/envs/env35/lib/python3.6/site-packages/keras/backend/tensorflow_backend.py:4138: The name tf.random_uniform is deprecated. Please use tf.random.uniform instead.\n",
      "\n",
      "W0831 21:06:44.375999 140160844097344 deprecation_wrapper.py:119] From /home/mteruel/anaconda2/envs/env35/lib/python3.6/site-packages/keras/backend/tensorflow_backend.py:174: The name tf.get_default_session is deprecated. Please use tf.compat.v1.get_default_session instead.\n",
      "\n",
      "W0831 21:06:44.376763 140160844097344 deprecation_wrapper.py:119] From /home/mteruel/anaconda2/envs/env35/lib/python3.6/site-packages/keras/backend/tensorflow_backend.py:190: The name tf.global_variables is deprecated. Please use tf.compat.v1.global_variables instead.\n",
      "\n",
      "W0831 21:06:44.377531 140160844097344 deprecation_wrapper.py:119] From /home/mteruel/anaconda2/envs/env35/lib/python3.6/site-packages/keras/backend/tensorflow_backend.py:199: The name tf.is_variable_initialized is deprecated. Please use tf.compat.v1.is_variable_initialized instead.\n",
      "\n",
      "W0831 21:06:45.301708 140160844097344 deprecation.py:323] From /home/mteruel/anaconda2/envs/env35/lib/python3.6/site-packages/keras/backend/tensorflow_backend.py:2974: add_dispatch_support.<locals>.wrapper (from tensorflow.python.ops.array_ops) is deprecated and will be removed in a future version.\n",
      "Instructions for updating:\n",
      "Use tf.where in 2.0, which has the same broadcast rule as np.where\n",
      "W0831 21:06:45.787671 140160844097344 deprecation.py:506] From /home/mteruel/anaconda2/envs/env35/lib/python3.6/site-packages/keras/backend/tensorflow_backend.py:3445: calling dropout (from tensorflow.python.ops.nn_ops) with keep_prob is deprecated and will be removed in a future version.\n",
      "Instructions for updating:\n",
      "Please use `rate` instead of `keep_prob`. Rate should be set to `rate = 1 - keep_prob`.\n",
      "W0831 21:06:47.444073 140160844097344 deprecation_wrapper.py:119] From /home/mteruel/anaconda2/envs/env35/lib/python3.6/site-packages/keras/optimizers.py:790: The name tf.train.Optimizer is deprecated. Please use tf.compat.v1.train.Optimizer instead.\n",
      "\n"
     ]
    },
    {
     "name": "stdout",
     "output_type": "stream",
     "text": [
      "________________________________________________________________________________________________________________________________________________________________________________________________________\n",
      "Layer (type)                                                      Output Shape                                Param #                 Connected to                                                      \n",
      "========================================================================================================================================================================================================\n",
      "char_input (InputLayer)                                           (None, None, 25)                            0                                                                                         \n",
      "________________________________________________________________________________________________________________________________________________________________________________________________________\n",
      "words_input (InputLayer)                                          (None, None)                                0                                                                                         \n",
      "________________________________________________________________________________________________________________________________________________________________________________________________________\n",
      "casing_input (InputLayer)                                         (None, None)                                0                                                                                         \n",
      "________________________________________________________________________________________________________________________________________________________________________________________________________\n",
      "char_emd (TimeDistributed)                                        (None, None, 25, 32)                        3040                    char_input[0][0]                                                  \n",
      "________________________________________________________________________________________________________________________________________________________________________________________________________\n",
      "word_embeddings (Embedding)                                       (None, None, 300)                           66691800                words_input[0][0]                                                 \n",
      "________________________________________________________________________________________________________________________________________________________________________________________________________\n",
      "casing_emebddings (Embedding)                                     (None, None, 10)                            80                      casing_input[0][0]                                                \n",
      "________________________________________________________________________________________________________________________________________________________________________________________________________\n",
      "char_lstm (TimeDistributed)                                       (None, None, 50)                            11600                   char_emd[0][0]                                                    \n",
      "________________________________________________________________________________________________________________________________________________________________________________________________________\n",
      "concatenate_1 (Concatenate)                                       (None, None, 360)                           0                       word_embeddings[0][0]                                             \n",
      "                                                                                                                                      casing_emebddings[0][0]                                           \n",
      "                                                                                                                                      char_lstm[0][0]                                                   \n",
      "________________________________________________________________________________________________________________________________________________________________________________________________________\n",
      "dense_1 (Dense)                                                   (None, None, 256)                           92160                   concatenate_1[0][0]                                               \n",
      "________________________________________________________________________________________________________________________________________________________________________________________________________\n",
      "dense_2 (Dense)                                                   (None, None, 256)                           92160                   concatenate_1[0][0]                                               \n",
      "________________________________________________________________________________________________________________________________________________________________________________________________________\n",
      "lambda_1 (Lambda)                                                 (None, None, None)                          0                       dense_1[0][0]                                                     \n",
      "________________________________________________________________________________________________________________________________________________________________________________________________________\n",
      "lambda_2 (Lambda)                                                 (None, None, None)                          0                       dense_2[0][0]                                                     \n",
      "________________________________________________________________________________________________________________________________________________________________________________________________________\n",
      "lambda_4 (Lambda)                                                 (None, None, None)                          0                       lambda_1[0][0]                                                    \n",
      "                                                                                                                                      lambda_2[0][0]                                                    \n",
      "________________________________________________________________________________________________________________________________________________________________________________________________________\n",
      "activation_1 (Activation)                                         (None, None, None)                          0                       lambda_4[0][0]                                                    \n",
      "________________________________________________________________________________________________________________________________________________________________________________________________________\n",
      "attention_scores (Lambda)                                         (None, 4, None, None)                       0                       activation_1[0][0]                                                \n",
      "________________________________________________________________________________________________________________________________________________________________________________________________________\n",
      "attention_matrix (Dropout)                                        (None, 4, None, None)                       0                       attention_scores[0][0]                                            \n",
      "________________________________________________________________________________________________________________________________________________________________________________________________________\n",
      "dense_3 (Dense)                                                   (None, None, 256)                           92160                   concatenate_1[0][0]                                               \n",
      "________________________________________________________________________________________________________________________________________________________________________________________________________\n",
      "lambda_5 (Lambda)                                                 (None, None, None)                          0                       attention_matrix[0][0]                                            \n",
      "________________________________________________________________________________________________________________________________________________________________________________________________________\n",
      "lambda_3 (Lambda)                                                 (None, None, None)                          0                       dense_3[0][0]                                                     \n",
      "________________________________________________________________________________________________________________________________________________________________________________________________________\n",
      "lambda_6 (Lambda)                                                 (None, None, None)                          0                       lambda_5[0][0]                                                    \n",
      "                                                                                                                                      lambda_3[0][0]                                                    \n",
      "________________________________________________________________________________________________________________________________________________________________________________________________________\n",
      "l_reshape2 (Lambda)                                               (None, None, 256)                           0                       lambda_6[0][0]                                                    \n",
      "________________________________________________________________________________________________________________________________________________________________________________________________________\n",
      "time_distributed_1 (TimeDistributed)                              (None, None, 256)                           65792                   l_reshape2[0][0]                                                  \n",
      "________________________________________________________________________________________________________________________________________________________________________________________________________\n",
      "dropout_1 (Dropout)                                               (None, None, 256)                           0                       time_distributed_1[0][0]                                          \n",
      "________________________________________________________________________________________________________________________________________________________________________________________________________\n",
      "shared_varLSTM_0 (Bidirectional)                                  (None, None, 128)                           164352                  dropout_1[0][0]                                                   \n",
      "________________________________________________________________________________________________________________________________________________________________________________________________________\n",
      "shared_varLSTM_1 (Bidirectional)                                  (None, None, 128)                           98816                   shared_varLSTM_0[0][0]                                            \n",
      "________________________________________________________________________________________________________________________________________________________________________________________________________\n",
      "essays2_hidden_lin_layer (TimeDistributed)                        (None, None, 7)                             903                     shared_varLSTM_1[0][0]                                            \n",
      "________________________________________________________________________________________________________________________________________________________________________________________________________\n",
      "essays2_crf (ChainCRF)                                            (None, None, 7)                             63                      essays2_hidden_lin_layer[0][0]                                    \n",
      "========================================================================================================================================================================================================\n",
      "Total params: 67,312,926\n",
      "Trainable params: 621,126\n",
      "Non-trainable params: 66,691,800\n",
      "________________________________________________________________________________________________________________________________________________________________________________________________________\n"
     ]
    }
   ],
   "source": [
    "self_att_model.buildModel()"
   ]
  },
  {
   "cell_type": "code",
   "execution_count": 15,
   "metadata": {
    "ExecuteTime": {
     "end_time": "2019-09-01T00:06:48.367547Z",
     "start_time": "2019-09-01T00:06:47.561100Z"
    }
   },
   "outputs": [],
   "source": [
    "self_att_model.models['essays2'].load_weights(\n",
    "    '../../results/essays2/{}/essays_model.h5'.format(experiment))"
   ]
  },
  {
   "cell_type": "code",
   "execution_count": 16,
   "metadata": {
    "ExecuteTime": {
     "end_time": "2019-09-01T00:06:48.377793Z",
     "start_time": "2019-09-01T00:06:48.369644Z"
    }
   },
   "outputs": [
    {
     "data": {
      "text/plain": [
       "dict_values(['Premise:Attack', 'Premise:Support', 'O', 'Claim:Support:For', 'Claim:For', 'MajorClaim', 'Claim:Against'])"
      ]
     },
     "execution_count": 16,
     "metadata": {},
     "output_type": "execute_result"
    }
   ],
   "source": [
    "self_att_model.idx2Labels['essays2'].values()"
   ]
  },
  {
   "cell_type": "markdown",
   "metadata": {},
   "source": [
    "# Prediction visualization"
   ]
  },
  {
   "cell_type": "code",
   "execution_count": 17,
   "metadata": {
    "ExecuteTime": {
     "end_time": "2019-09-01T00:06:53.223515Z",
     "start_time": "2019-09-01T00:06:53.209467Z"
    }
   },
   "outputs": [],
   "source": [
    "DEFAULT_LABEL = 'O'\n",
    "\n",
    "STYLES = defaultdict(lambda: 'magenta')\n",
    "for label in self_att_model.idx2Labels['essays2'].values():\n",
    "    if 'premise' in label.lower():\n",
    "        STYLES[label] = 'green'\n",
    "    elif 'major' in label.lower():\n",
    "        STYLES[label] = 'blue'\n",
    "    else:\n",
    "        STYLES[label] = 'red'\n",
    "# STYLES.update({\n",
    "#     'claim': 'red', 'premise': 'green',\n",
    "#     'major-claim': 'blue'})\n",
    "\n",
    "def pretty_print(sentence, labels, styles=None, count_words=True):\n",
    "    if styles is None:\n",
    "        styles = defaultdict(lambda: 'green')\n",
    "    result = ''\n",
    "    previous_label = DEFAULT_LABEL\n",
    "    for index, (word, label) in enumerate(zip(sentence, labels)):\n",
    "        if label != previous_label and label == DEFAULT_LABEL:  # end of block\n",
    "            result = result.strip() + '} '\n",
    "        if count_words and (index % 10 == 0):\n",
    "            result += ' \\n({})\\t'.format(index)\n",
    "        if label != previous_label and label != DEFAULT_LABEL:  # new block\n",
    "            result += '{'\n",
    "\n",
    "        if label == DEFAULT_LABEL:\n",
    "            result += word + ' '\n",
    "        else:\n",
    "            result += colored(word, styles[label]) + ' '\n",
    "        previous_label = label\n",
    "    if previous_label != DEFAULT_LABEL:\n",
    "        result = result.strip() + '}'\n",
    "    print(result)"
   ]
  },
  {
   "cell_type": "code",
   "execution_count": 18,
   "metadata": {
    "ExecuteTime": {
     "end_time": "2019-09-01T00:06:53.930904Z",
     "start_time": "2019-09-01T00:06:53.918062Z"
    }
   },
   "outputs": [],
   "source": [
    "import numpy\n",
    "from keras.preprocessing.sequence import pad_sequences\n",
    "\n",
    "def model_predict(self_att_model, model_name, sentences, return_attention=False, batch_size=32):\n",
    "    \"\"\"Model probability distribution over set of labels for sentences.\n",
    "\n",
    "    Args:\n",
    "        model: a Keras model.\n",
    "    \"\"\"\n",
    "    pred_labels = []\n",
    "    att_scores = []\n",
    "\n",
    "    for start in range(0, len(sentences), batch_size):\n",
    "        end = start + batch_size\n",
    "        instances = []\n",
    "        for feature_name in self_att_model.params['featureNames']:\n",
    "            input_data = pad_sequences(\n",
    "                [numpy.asarray(instance[feature_name])\n",
    "                 for instance in sentences[start:end]],\n",
    "                self_att_model.max_sentece_length)\n",
    "            instances.append(input_data)\n",
    "\n",
    "        if not return_attention:\n",
    "            predictions = self_att_model.models[model_name].predict(instances, verbose=False)\n",
    "        else:\n",
    "            predictions, attention = self_att_model.label_and_attention(\n",
    "                self_att_model.models[model_name], instances)\n",
    "        predictions = predictions.argmax(axis=-1) #Predict classes\n",
    "    return predictions, attention"
   ]
  },
  {
   "cell_type": "code",
   "execution_count": 19,
   "metadata": {
    "ExecuteTime": {
     "end_time": "2019-09-01T00:06:54.537316Z",
     "start_time": "2019-09-01T00:06:54.523736Z"
    }
   },
   "outputs": [],
   "source": [
    "import json\n",
    "from IPython.core.display import display, HTML, Javascript\n",
    "import os\n",
    "\n",
    "def get_predictions(model, model_name, sentence, word_range=None):\n",
    "    \"\"\"Predicts the labels and obtain the attention scores for sentence.\n",
    "    \n",
    "    Returns\n",
    "        The list of words in sentence\n",
    "        The list of labels asigned by the classifier\n",
    "        The array of attention scores, with shape\n",
    "            [n_layers, n_heads, words, words]\n",
    "    \"\"\"\n",
    "    # Obtain raw output\n",
    "    result = model_predict(\n",
    "        model, 'essays2', [sentence],\n",
    "        return_attention=True, batch_size=1)\n",
    "    padded_pred_labels, padded_att_scores = result[0][0], result[1][0]\n",
    "    # Un-pad sequences\n",
    "    sentence_lenght = len(sentence['tokens'])\n",
    "    if sentence_lenght > padded_pred_labels.shape[0]:\n",
    "        raise NotImplementedError('Sentence is longer than padded result. It was cut')\n",
    "\n",
    "    if word_range is not None:\n",
    "        start = word_range[0]\n",
    "        end = min(word_range[1], sentence_lenght)\n",
    "    else:\n",
    "        start, end = 0, sentence_lenght\n",
    "    predictions = padded_pred_labels[start:end]\n",
    "    attention = numpy.expand_dims(\n",
    "        padded_att_scores[:, start:end, start:end], axis=0)\n",
    "\n",
    "    idx2Label = model.idx2Labels[model_name]\n",
    "    labels = [idx2Label[tag] for tag in predictions]\n",
    "    return sentence['raw_tokens'], labels, attention"
   ]
  },
  {
   "cell_type": "code",
   "execution_count": 20,
   "metadata": {
    "ExecuteTime": {
     "end_time": "2019-09-01T00:06:56.231343Z",
     "start_time": "2019-09-01T00:06:55.320744Z"
    }
   },
   "outputs": [
    {
     "name": "stdout",
     "output_type": "stream",
     "text": [
      "(0)\t{\u001b[32mMore\u001b[0m \u001b[32mpeople\u001b[0m \u001b[32mare\u001b[0m \u001b[32mmigrating\u001b[0m \u001b[32mto\u001b[0m \u001b[32mother\u001b[0m \u001b[32mcountries\u001b[0m \u001b[32mthan\u001b[0m \u001b[32mever\u001b[0m \u001b[32mbefore\u001b[0m  \n",
      "(10)\t\u001b[32mThe\u001b[0m \u001b[32mlast\u001b[0m \u001b[32m50\u001b[0m \u001b[32myears\u001b[0m \u001b[32mhave\u001b[0m \u001b[32mseen\u001b[0m \u001b[32man\u001b[0m \u001b[32mincreasing\u001b[0m \u001b[32mnumber\u001b[0m \u001b[32mof\u001b[0m  \n",
      "(20)\t\u001b[32mimmigrants\u001b[0m \u001b[32mto\u001b[0m \u001b[32mother\u001b[0m \u001b[32mcountries\u001b[0m} . {\u001b[32mPeople\u001b[0m \u001b[32mmoved\u001b[0m \u001b[32mdue\u001b[0m \u001b[32mto\u001b[0m \u001b[32ma\u001b[0m  \n",
      "(30)\t\u001b[32mnumber\u001b[0m \u001b[32mof\u001b[0m} reasons , {\u001b[32mnamely\u001b[0m \u001b[32mbetter\u001b[0m \u001b[32meducations\u001b[0m \u001b[32mor\u001b[0m \u001b[32mhigher\u001b[0m \u001b[32msalary\u001b[0m  \n",
      "(40)\t\u001b[32mjobs\u001b[0m} . Some {\u001b[32mpeople\u001b[0m \u001b[32mthought\u001b[0m \u001b[32mthat\u001b[0m \u001b[32mthey\u001b[0m \u001b[32mshould\u001b[0m \u001b[32mfollow\u001b[0m \u001b[32mthe\u001b[0m  \n",
      "(50)\t\u001b[32mlocal\u001b[0m \u001b[32mcustoms\u001b[0m \u001b[32min\u001b[0m \u001b[32morder\u001b[0m \u001b[32mto\u001b[0m \u001b[32mintegrate\u001b[0m \u001b[32minto\u001b[0m \u001b[32mtheir\u001b[0m \u001b[32madopted\u001b[0m \u001b[32mcountries\u001b[0m  \n",
      "(60)\t\u001b[32m’\u001b[0m \u001b[32mcultures\u001b[0m} . However I strongly believe that {\u001b[32mthey\u001b[0m \u001b[32mare\u001b[0m  \n",
      "(70)\t\u001b[32mable\u001b[0m \u001b[32mto\u001b[0m \u001b[32msustain\u001b[0m \u001b[32mtheir\u001b[0m \u001b[32mcultural\u001b[0m \u001b[32midentities\u001b[0m \u001b[32mand\u001b[0m \u001b[32mdoing\u001b[0m \u001b[32mso\u001b[0m \u001b[32mhelp\u001b[0m  \n",
      "(80)\t\u001b[32mthey\u001b[0m \u001b[32mkeep\u001b[0m \u001b[32mtheir\u001b[0m \u001b[32morigin\u001b[0m \u001b[32mvalues\u001b[0m} . Firstly , {\u001b[32mmaintaining\u001b[0m \u001b[32mone\u001b[0m  \n",
      "(90)\t\u001b[32m’\u001b[0m \u001b[32ms\u001b[0m \u001b[32mcultural\u001b[0m \u001b[32midentity\u001b[0m \u001b[32mis\u001b[0m \u001b[32ma\u001b[0m \u001b[32mkey\u001b[0m \u001b[32mimportant\u001b[0m \u001b[32mrule\u001b[0m \u001b[32mto\u001b[0m  \n",
      "(100)\t\u001b[32mhelp\u001b[0m \u001b[32mindividuals\u001b[0m \u001b[32memerge\u001b[0m \u001b[32min\u001b[0m \u001b[32mthe\u001b[0m \u001b[32mnew\u001b[0m \u001b[32mmulticultural\u001b[0m \u001b[32menvironments\u001b[0m} . {\u001b[32mTake\u001b[0m  \n",
      "(110)\t\u001b[32mAustralia\u001b[0m \u001b[32mfor\u001b[0m \u001b[32mexample\u001b[0m \u001b[32m,\u001b[0m \u001b[32mimmigrants\u001b[0m \u001b[32mfrom\u001b[0m \u001b[32mvarieties\u001b[0m \u001b[32mof\u001b[0m \u001b[32mnations\u001b[0m \u001b[32mhave\u001b[0m  \n",
      "(120)\t\u001b[32ma\u001b[0m \u001b[32mday\u001b[0m \u001b[32mcalled\u001b[0m \u001b[32mmulticultural\u001b[0m \u001b[32mday\u001b[0m \u001b[32mwhere\u001b[0m \u001b[32mpeople\u001b[0m \u001b[32mfrom\u001b[0m \u001b[32meach\u001b[0m \u001b[32mcountry\u001b[0m  \n",
      "(130)\t\u001b[32mprepare\u001b[0m \u001b[32mtheir\u001b[0m \u001b[32mfood\u001b[0m \u001b[32mand\u001b[0m \u001b[32mtraditional\u001b[0m \u001b[32mactivities\u001b[0m \u001b[32mfor\u001b[0m \u001b[32mdisplaying\u001b[0m \u001b[32min\u001b[0m \u001b[32mthe\u001b[0m  \n",
      "(140)\t\u001b[32mpublic\u001b[0m \u001b[32mvenues\u001b[0m} . {\u001b[32mMany\u001b[0m \u001b[32mAustralians\u001b[0m \u001b[32mcome\u001b[0m \u001b[32mthis\u001b[0m \u001b[32mday\u001b[0m \u001b[32mto\u001b[0m \u001b[32menjoy\u001b[0m  \n",
      "(150)\t\u001b[32mthe\u001b[0m \u001b[32mshows\u001b[0m \u001b[32m,\u001b[0m \u001b[32mlearn\u001b[0m \u001b[32mabout\u001b[0m \u001b[32mthe\u001b[0m \u001b[32mcultures\u001b[0m \u001b[32mand\u001b[0m \u001b[32madmire\u001b[0m \u001b[32mthe\u001b[0m  \n",
      "(160)\t\u001b[32mdiverse\u001b[0m \u001b[32mvalues\u001b[0m} . {\u001b[32mThese\u001b[0m \u001b[32mfeedbacks\u001b[0m \u001b[32m,\u001b[0m \u001b[32min\u001b[0m \u001b[32mturn\u001b[0m \u001b[32m,\u001b[0m \u001b[32mhelp\u001b[0m  \n",
      "(170)\t\u001b[32mraise\u001b[0m \u001b[32mone\u001b[0m \u001b[32m’\u001b[0m \u001b[32ms\u001b[0m \u001b[32mpride\u001b[0m \u001b[32mof\u001b[0m \u001b[32mtheir\u001b[0m \u001b[32mcultures\u001b[0m \u001b[32mand\u001b[0m \u001b[32mhelp\u001b[0m  \n",
      "(180)\t\u001b[32mpeople\u001b[0m \u001b[32munderstand\u001b[0m \u001b[32meach\u001b[0m \u001b[32mother\u001b[0m \u001b[32mmore\u001b[0m} . Thus this makes it  \n",
      "(190)\tclear that {\u001b[32msustaining\u001b[0m \u001b[32mthe\u001b[0m \u001b[32mcultural\u001b[0m \u001b[32mvalues\u001b[0m \u001b[32mof\u001b[0m \u001b[32mimmigrants\u001b[0m \u001b[32mis\u001b[0m \u001b[32mparamount\u001b[0m  \n",
      "(200)\t\u001b[32messential\u001b[0m} . Secondly , {\u001b[32mit\u001b[0m \u001b[32mis\u001b[0m \u001b[32mcrucial\u001b[0m \u001b[32mto\u001b[0m \u001b[32mkeep\u001b[0m \u001b[32mone\u001b[0m  \n",
      "(210)\t\u001b[32m’\u001b[0m \u001b[32ms\u001b[0m \u001b[32midentity\u001b[0m \u001b[32mfor\u001b[0m \u001b[32mthey\u001b[0m \u001b[32mneed\u001b[0m \u001b[32ma\u001b[0m \u001b[32mconnection\u001b[0m \u001b[32mback\u001b[0m \u001b[32mto\u001b[0m  \n",
      "(220)\t\u001b[32mtheir\u001b[0m \u001b[32mcountry\u001b[0m \u001b[32mas\u001b[0m \u001b[32mwell\u001b[0m \u001b[32mas\u001b[0m \u001b[32mteach\u001b[0m \u001b[32mtheir\u001b[0m \u001b[32mchildren\u001b[0m \u001b[32mtheir\u001b[0m \u001b[32mvalue\u001b[0m  \n",
      "(230)\t\u001b[32mof\u001b[0m \u001b[32morigin\u001b[0m} . For instance , {\u001b[32mchildren\u001b[0m \u001b[32mimmigrated\u001b[0m \u001b[32mto\u001b[0m \u001b[32ma\u001b[0m  \n",
      "(240)\t\u001b[32mnew\u001b[0m \u001b[32mcountry\u001b[0m \u001b[32mwill\u001b[0m \u001b[32mface\u001b[0m \u001b[32msocial\u001b[0m \u001b[32mtroubles\u001b[0m \u001b[32min\u001b[0m \u001b[32mschool\u001b[0m \u001b[32mwith\u001b[0m \u001b[32mnew\u001b[0m  \n",
      "(250)\t\u001b[32mfriends\u001b[0m} . In {\u001b[32mthis\u001b[0m \u001b[32mnew\u001b[0m \u001b[32menvironment\u001b[0m \u001b[32m,\u001b[0m \u001b[32mparent\u001b[0m \u001b[32mshould\u001b[0m \u001b[32mfind\u001b[0m  \n",
      "(260)\t\u001b[32mfriends\u001b[0m \u001b[32mcoming\u001b[0m \u001b[32mfrom\u001b[0m \u001b[32mtheir\u001b[0m \u001b[32msame\u001b[0m \u001b[32mcountry\u001b[0m \u001b[32mso\u001b[0m \u001b[32mthat\u001b[0m \u001b[32mthey\u001b[0m \u001b[32mcan\u001b[0m  \n",
      "(270)\t\u001b[32msocialize\u001b[0m \u001b[32min\u001b[0m \u001b[32ma\u001b[0m \u001b[32mvery\u001b[0m \u001b[32mfamiliar\u001b[0m \u001b[32mmanner\u001b[0m \u001b[32mas\u001b[0m \u001b[32mfeeling\u001b[0m \u001b[32mbeing\u001b[0m \u001b[32mhome\u001b[0m}  \n",
      "(280)\t. {\u001b[32mFail\u001b[0m \u001b[32mto\u001b[0m \u001b[32mcreate\u001b[0m \u001b[32mthis\u001b[0m \u001b[32mfamiliarity\u001b[0m \u001b[32mmakes\u001b[0m \u001b[32mthem\u001b[0m \u001b[32mfelt\u001b[0m \u001b[32misolated\u001b[0m  \n",
      "(290)\t\u001b[32m,\u001b[0m \u001b[32min\u001b[0m \u001b[32mthe\u001b[0m \u001b[32mextreme\u001b[0m \u001b[32mcan\u001b[0m \u001b[32mlead\u001b[0m \u001b[32mto\u001b[0m \u001b[32msocial\u001b[0m \u001b[32mdisorder\u001b[0m \u001b[32mlike\u001b[0m  \n",
      "(300)\t\u001b[32mautism\u001b[0m} . Hence , it is clear that {\u001b[32mkeeping\u001b[0m \u001b[32mthe\u001b[0m  \n",
      "(310)\t\u001b[32mcultural\u001b[0m \u001b[32mtraditions\u001b[0m \u001b[32min\u001b[0m \u001b[32mthe\u001b[0m \u001b[32mdestination\u001b[0m \u001b[32mcountries\u001b[0m \u001b[32mis\u001b[0m \u001b[32mtremendous\u001b[0m \u001b[32mimportant\u001b[0m} .  \n",
      "(320)\tTo conclude , although there are opposing {\u001b[34mideas\u001b[0m \u001b[34mof\u001b[0m \u001b[34mneglecting\u001b[0m  \n",
      "(330)\t\u001b[34mone\u001b[0m \u001b[34m’\u001b[0m \u001b[34ms\u001b[0m \u001b[34mcultural\u001b[0m \u001b[34mvalues\u001b[0m \u001b[34mto\u001b[0m \u001b[34madapt\u001b[0m \u001b[34min\u001b[0m \u001b[34mthe\u001b[0m \u001b[34mnew\u001b[0m  \n",
      "(340)\t\u001b[34mcultures\u001b[0m} . As far as I am concerned , {\u001b[34msustaining\u001b[0m  \n",
      "(350)\t\u001b[34mthe\u001b[0m \u001b[34mtraditions\u001b[0m \u001b[34mwill\u001b[0m \u001b[34mmake\u001b[0m \u001b[34mthe\u001b[0m \u001b[34mimmigrated\u001b[0m \u001b[34mpeople\u001b[0m \u001b[34mkeep\u001b[0m \u001b[34mtheir\u001b[0m \u001b[34mcultural\u001b[0m  \n",
      "(360)\t\u001b[34midentity\u001b[0m \u001b[34mand\u001b[0m \u001b[34mgive\u001b[0m \u001b[34mthem\u001b[0m \u001b[34mconfident\u001b[0m \u001b[34mamong\u001b[0m \u001b[34mthe\u001b[0m \u001b[34mmany\u001b[0m \u001b[34mculture\u001b[0m \u001b[34msociety\u001b[0m}  \n",
      "(370)\t. \n"
     ]
    }
   ],
   "source": [
    "sentence = data['essays2']['trainMatrix'][1]\n",
    "words, labels, attention = get_predictions(self_att_model, 'essays2', sentence)\n",
    "pretty_print(words, labels, styles=STYLES)"
   ]
  },
  {
   "cell_type": "markdown",
   "metadata": {},
   "source": [
    "# Attention visualization"
   ]
  },
  {
   "cell_type": "code",
   "execution_count": 21,
   "metadata": {
    "ExecuteTime": {
     "end_time": "2019-09-01T00:07:07.741383Z",
     "start_time": "2019-09-01T00:07:07.734312Z"
    }
   },
   "outputs": [
    {
     "data": {
      "application/javascript": [
       "require.config({\n",
       "  paths: {\n",
       "      d3: 'https://cdnjs.cloudflare.com/ajax/libs/d3/3.5.17/d3',\n",
       "      jquery: 'ajax.googleapis.com/ajax/libs/jquery/2.0.0/jquery.min',\n",
       "  }\n",
       "});\n"
      ],
      "text/plain": [
       "<IPython.core.display.Javascript object>"
      ]
     },
     "metadata": {},
     "output_type": "display_data"
    }
   ],
   "source": [
    "%%javascript\n",
    "require.config({\n",
    "  paths: {\n",
    "      d3: 'https://cdnjs.cloudflare.com/ajax/libs/d3/3.5.17/d3',\n",
    "      jquery: 'ajax.googleapis.com/ajax/libs/jquery/2.0.0/jquery.min',\n",
    "  }\n",
    "});"
   ]
  },
  {
   "cell_type": "code",
   "execution_count": 24,
   "metadata": {
    "ExecuteTime": {
     "end_time": "2019-09-01T00:07:14.852682Z",
     "start_time": "2019-09-01T00:07:14.841037Z"
    }
   },
   "outputs": [],
   "source": [
    "def build_self_attn_params(sentence, attention_matrix, word_range=(0, 20)):\n",
    "    \"\"\"Creates the parameters for show function.\n",
    "\n",
    "    Returns:\n",
    "        A dictionary with keys:\n",
    "            attn [array] with shape [n_layers, n_heads, words, words].\n",
    "            For self attention, we always have one layer\n",
    "    \"\"\"\n",
    "    start, end = word_range\n",
    "    attn = attention_matrix[:, :, start:end, start:end]\n",
    "    return {\n",
    "        'left_text': sentence['raw_tokens'][start:end],\n",
    "        'right_text': sentence['raw_tokens'][start:end],\n",
    "        'attn': attn.tolist(),\n",
    "        'head_maxs': numpy.amax(attn, axis=(-2, -1)).tolist()\n",
    "    }\n",
    "\n",
    "def show(sentence, attention_matrix, word_range=(0, 20)):\n",
    "    vis_html = \"\"\"\n",
    "      <span style=\"user-select:none\">\n",
    "        Layer: <select id=\"layer\"></select>\n",
    "      </span>\n",
    "      <div id='vis2'></div> \n",
    "    \"\"\"\n",
    "\n",
    "    display(HTML(vis_html))\n",
    "    vis_js = open(os.path.join('js', 'head_view.js')).read()\n",
    "    attn_data = build_self_attn_params(\n",
    "        sentence, attention_matrix, word_range=word_range)\n",
    "    params = {\n",
    "        'attention': {'all': attn_data},\n",
    "        'default_filter': \"all\",\n",
    "        'divId': '#vis2'\n",
    "    }\n",
    "    display(Javascript('window.params = %s' % json.dumps(params)))\n",
    "    display(Javascript(vis_js))"
   ]
  },
  {
   "cell_type": "code",
   "execution_count": 25,
   "metadata": {
    "ExecuteTime": {
     "end_time": "2019-09-01T00:07:18.619325Z",
     "start_time": "2019-09-01T00:07:18.598276Z"
    },
    "scrolled": false
   },
   "outputs": [
    {
     "data": {
      "text/html": [
       "\n",
       "      <span style=\"user-select:none\">\n",
       "        Layer: <select id=\"layer\"></select>\n",
       "      </span>\n",
       "      <div id='vis2'></div> \n",
       "    "
      ],
      "text/plain": [
       "<IPython.core.display.HTML object>"
      ]
     },
     "metadata": {},
     "output_type": "display_data"
    },
    {
     "data": {
      "application/javascript": [
       "window.params = {\"attention\": {\"all\": {\"left_text\": [\"As\", \"far\", \"as\", \"I\", \"am\", \"concerned\", \",\", \"sustaining\", \"the\", \"traditions\", \"will\", \"make\", \"the\", \"immigrated\", \"people\", \"keep\", \"their\", \"cultural\", \"identity\", \"and\", \"give\", \"them\", \"confident\", \"among\", \"the\", \"many\", \"culture\", \"society\"], \"right_text\": [\"As\", \"far\", \"as\", \"I\", \"am\", \"concerned\", \",\", \"sustaining\", \"the\", \"traditions\", \"will\", \"make\", \"the\", \"immigrated\", \"people\", \"keep\", \"their\", \"cultural\", \"identity\", \"and\", \"give\", \"them\", \"confident\", \"among\", \"the\", \"many\", \"culture\", \"society\"], \"attn\": [[[[6.846582412123325e-09, 1.3250814845378045e-07, 1.6760105525648328e-09, 2.2450815322372364e-06, 1.3156519571566605e-06, 6.813857567067316e-07, 4.585527069167483e-09, 1.7542417936056154e-06, 1.073254995986872e-08, 0.0002808254212141037, 5.510039713385595e-08, 2.40684272512226e-07, 1.073254995986872e-08, 9.277248864236753e-06, 0.0009829048067331314, 6.555704317179334e-07, 1.769180246746771e-09, 4.5593523623210785e-08, 9.543188934912905e-05, 2.402643195509313e-09, 3.243390835905302e-07, 7.326652848860249e-07, 2.1316948277672054e-06, 4.9674513391551045e-09, 1.073254995986872e-08, 1.1132677002478886e-07, 0.00021774755441583693, 0.0001569888845551759], [0.00011084182187914848, 0.0002547614276409149, 5.988372868159786e-05, 0.0008621707675047219, 0.0006676443153992295, 0.00047510649892501533, 7.571673631900921e-05, 0.000793491315562278, 0.00010223163553746417, 0.00576768396422267, 0.00017739333270583302, 0.00030749282450415194, 0.00010223163553746417, 0.0014338601613417268, 0.01005589496344328, 0.000499028479680419, 5.208282163948752e-05, 0.00019001594046130776, 0.0036799863446503878, 5.420507295639254e-05, 0.00035655591636896133, 0.00050425308290869, 0.0007402944611385465, 8.22053334559314e-05, 0.00010223163553746417, 0.0002436730283079669, 0.005470202304422855, 0.005360281094908714], [8.790541072833946e-10, 2.697428413966918e-08, 1.8695020531644957e-10, 6.296805281635898e-07, 3.441691944772174e-07, 1.7587514378192282e-07, 5.95164306727014e-10, 4.825378141504189e-07, 1.5578447420949715e-09, 0.00014179316349327564, 1.020448792132811e-08, 5.445791728675431e-08, 1.5578447420949715e-09, 3.1270137696992606e-06, 0.0005654168780893087, 1.6972707328477554e-07, 2.07314651556878e-10, 7.918816713470278e-09, 4.2914776713587344e-05, 3.005498905306325e-10, 7.568538507030098e-08, 1.8517093280934205e-07, 6.312179152700992e-07, 6.49431119992272e-10, 1.5578447420949715e-09, 2.2775990871082286e-08, 0.00010457236203365028, 7.145545532694086e-05], [4.654846463836293e-08, 7.158058110690035e-07, 1.3751814798013129e-08, 7.493182692996925e-06, 5.010355380363762e-06, 2.616648771436303e-06, 3.52850122453674e-08, 7.093367912602844e-06, 8.187682709603905e-08, 0.0005208162474445999, 3.0527243666256254e-07, 1.1365971204213565e-06, 8.187682709603905e-08, 3.036844100279268e-05, 0.0016273745568469167, 2.6168834210693603e-06, 1.5369520767194444e-08, 2.8438731192181876e-07, 0.00019338983111083508, 1.9854919486306244e-08, 1.3033585446464713e-06, 2.912267518695444e-06, 6.829227913840441e-06, 3.859882724555064e-08, 8.187682709603905e-08, 6.219105443960871e-07, 0.0003880774602293968, 0.0003241785161662847], [2.089752115352894e-06, 1.395531671732897e-05, 8.112502314361336e-07, 9.486955241300166e-05, 6.038792707840912e-05, 3.873302921419963e-05, 1.544974224998441e-06, 7.721494330326095e-05, 2.7100613806396723e-06, 0.002372528426349163, 7.401427865261212e-06, 2.2419071683543734e-05, 2.7100613806396723e-06, 0.00019938834884669632, 0.005422194954007864, 4.270098725100979e-05, 7.94417417182558e-07, 7.166898740251781e-06, 0.0011040597455576062, 1.0098925713464268e-06, 2.5595987608539872e-05, 4.3910742533626035e-05, 8.193782559828833e-05, 1.6463584415760124e-06, 2.7100613806396723e-06, 1.3950447282695677e-05, 0.0020595670212060213, 0.0015330646419897676], [2.8013728297082707e-06, 1.4931814803276211e-05, 1.1155254924233304e-06, 0.00010050463606603444, 7.341049786191434e-05, 4.104497566004284e-05, 2.0934082840540214e-06, 8.708430686965585e-05, 3.5045591175730806e-06, 0.00213527656160295, 8.631452146801166e-06, 2.153540845029056e-05, 3.5045591175730806e-06, 0.00023704204068053514, 0.004575024358928204, 4.160336538916454e-05, 1.0660397720130277e-06, 8.557269211451057e-06, 0.0009705357952043414, 1.336965624432196e-06, 2.5866380383376963e-05, 4.6396769903367385e-05, 7.880992052378133e-05, 2.3914863049867563e-06, 3.5045591175730806e-06, 1.4381810615304857e-05, 0.001908556674607098, 0.001575774629600346], [4.37743885584041e-09, 9.319012406194815e-08, 1.0535792238641761e-09, 1.6511887679371284e-06, 1.0686170526241767e-06, 4.913788984595158e-07, 3.1303246661451567e-09, 1.3931852436144254e-06, 7.648737643251025e-09, 0.0002302613138454035, 3.8233078925031805e-08, 1.7046406242116063e-07, 7.648737643251025e-09, 7.5940338319924194e-06, 0.0008053079363889992, 4.828555120184319e-07, 1.1285289369666884e-09, 3.3551131650710886e-08, 7.256350363604724e-05, 1.622257217448464e-09, 2.3128191628529748e-07, 5.102087357045093e-07, 1.527255790279014e-06, 3.480293386814992e-09, 7.648737643251025e-09, 8.187118538671712e-08, 0.00017880223458632827, 0.00012393563520163298], [2.3858003714849474e-06, 1.966688796528615e-05, 1.0088357385029667e-06, 0.00012211639841552824, 8.607249765191227e-05, 6.031308294041082e-05, 2.0029733605042566e-06, 0.00010157150245504454, 3.6334108699520584e-06, 0.002544569782912731, 1.1697115041897632e-05, 2.9780629120068625e-05, 3.6334108699520584e-06, 0.00030325615080073476, 0.0061135017313063145, 6.173944711918011e-05, 1.2038057093377574e-06, 8.18138232716592e-06, 0.0012677025515586138, 1.4324668882181868e-06, 3.612285217968747e-05, 5.9274218074278906e-05, 0.00012232457811478525, 2.1945868411421543e-06, 3.6334108699520584e-06, 1.8556451323092915e-05, 0.0020415126346051693, 0.0016879972536116838], [1.8745855978608006e-09, 5.798706226300965e-08, 4.447268664442561e-10, 1.0588718168946798e-06, 6.045820555300452e-07, 3.370517163148179e-07, 1.437064356402118e-09, 8.812192504592531e-07, 3.6858764929093013e-09, 0.00018419686239212751, 2.1685774953539294e-08, 1.1055541904170241e-07, 3.6858764929093013e-09, 5.394309027906274e-06, 0.0006690639420412481, 3.448423342433671e-07, 5.089219046183757e-10, 1.636784574543526e-08, 6.0899215895915404e-05, 7.747207320107918e-10, 1.4819735838500492e-07, 3.6202536080054415e-07, 1.104851776290161e-06, 1.647589842335151e-09, 3.6858764929093013e-09, 4.9869314011630195e-08, 0.00013228252646513283, 9.76744486251846e-05], [5.464590867632069e-05, 0.00019240679102949798, 2.9199314667494036e-05, 0.0006742018740624189, 0.0005419518565759063, 0.0003857227857224643, 4.811918188352138e-05, 0.0006448518834076822, 6.813107029302046e-05, 0.006269112695008516, 0.00014070890028961003, 0.0002639208105392754, 6.813107029302046e-05, 0.0012290036538615823, 0.010095336474478245, 0.0003985240764450282, 3.0140741728246212e-05, 0.00013142642274033278, 0.003535849740728736, 3.548380118445493e-05, 0.00030178838642314076, 0.00042118431883864105, 0.0006690591690130532, 4.5794375182595104e-05, 6.813107029302046e-05, 0.00018596598238218576, 0.005626173224300146, 0.004622057545930147], [6.91287951326558e-08, 1.0382099162598024e-06, 2.1607528211120552e-08, 1.0926291906798724e-05, 7.193215878942283e-06, 4.536695541901281e-06, 5.264651647962637e-08, 8.668841473991051e-06, 1.1495131246874735e-07, 0.0007562378887087107, 5.128705993229232e-07, 1.833658643590752e-06, 1.1495131246874735e-07, 3.899254807038233e-05, 0.0021868792828172445, 4.248881396051729e-06, 2.4042380530886476e-08, 3.848376479709259e-07, 0.00031912093982100487, 3.300314688203798e-08, 2.3251106995303417e-06, 4.724949576484505e-06, 1.2422327017702628e-05, 5.828372096061685e-08, 1.1495131246874735e-07, 1.0008343451772816e-06, 0.0006015922990627587, 0.00043752501369453967], [6.57112686894834e-05, 0.0002028548187809065, 3.4475386200938374e-05, 0.0006363093270920217, 0.0005473456694744527, 0.0004145091224927455, 4.977127173333429e-05, 0.0005780990468338132, 7.06038044882007e-05, 0.005898794624954462, 0.00012577454617712647, 0.00026009880821220577, 7.06038044882007e-05, 0.0013520534848794341, 0.010883200913667679, 0.00039014872163534164, 3.20806575473398e-05, 0.00011700042523443699, 0.0035691047087311745, 3.6191020626574755e-05, 0.0003009276115335524, 0.0004374119744170457, 0.0006588018732145429, 5.118235640111379e-05, 7.06038044882007e-05, 0.00016456301091238856, 0.005398829933255911, 0.004896605387330055], [1.8745855978608006e-09, 5.798706226300965e-08, 4.447268664442561e-10, 1.0588718168946798e-06, 6.045820555300452e-07, 3.370517163148179e-07, 1.437064356402118e-09, 8.812192504592531e-07, 3.6858764929093013e-09, 0.00018419686239212751, 2.1685774953539294e-08, 1.1055541904170241e-07, 3.6858764929093013e-09, 5.394309027906274e-06, 0.0006690639420412481, 3.448423342433671e-07, 5.089219046183757e-10, 1.636784574543526e-08, 6.0899215895915404e-05, 7.747207320107918e-10, 1.4819735838500492e-07, 3.6202536080054415e-07, 1.104851776290161e-06, 1.647589842335151e-09, 3.6858764929093013e-09, 4.9869314011630195e-08, 0.00013228252646513283, 9.76744486251846e-05], [1.3053029761067592e-05, 6.274384941207245e-05, 6.078442766010994e-06, 0.0002819981600623578, 0.0002151714579667896, 0.0001487493427703157, 1.0236797606921755e-05, 0.0002809910802170634, 1.7671716705081053e-05, 0.004906690213829279, 3.974771243520081e-05, 9.315334318671376e-05, 1.7671716705081053e-05, 0.0005492510390467942, 0.008453463204205036, 0.00015324854757636786, 6.412570201064227e-06, 3.680679219542071e-05, 0.0022465232759714127, 7.048488441796508e-06, 0.0001066745026037097, 0.00015943855396471918, 0.00028843333711847663, 1.1061831173719838e-05, 1.7671716705081053e-05, 5.8774247008841485e-05, 0.004133524373173714, 0.0029623741284012794], [0.0039017389062792063, 0.0021122486796230078, 0.0032164789736270905, 0.0025402470491826534, 0.0026866954285651445, 0.0019743707962334156, 0.0029970104806125164, 0.0031325232703238726, 0.002546624979004264, 0.0032028257846832275, 0.0019269043114036322, 0.0018033847445622087, 0.002546624979004264, 0.0028363417368382215, 0.003238169476389885, 0.0019093719311058521, 0.0022000663448125124, 0.0028207723516970873, 0.002827557735145092, 0.002279008273035288, 0.0019344681641086936, 0.002252988750115037, 0.0019201120594516397, 0.003006166545674205, 0.002546624979004264, 0.0020061868708580732, 0.003537633689120412, 0.0036018143873661757], [1.5577123122056946e-05, 8.15822568256408e-05, 7.578966233268147e-06, 0.0003154242585878819, 0.00024993778788484633, 0.00018927938072010875, 1.2305232303333469e-05, 0.00029110725154168904, 1.9868171875714324e-05, 0.004440716467797756, 4.726261249743402e-05, 0.00010407249646959826, 1.9868171875714324e-05, 0.0007336419657804072, 0.008267608471214771, 0.00018955043924506754, 8.281883310701232e-06, 4.1988558223238215e-05, 0.0025456761941313744, 9.026462066685781e-06, 0.00012453447561711073, 0.0002036556543316692, 0.0003465358167886734, 1.3446619050228037e-05, 1.9868171875714324e-05, 6.887502240715548e-05, 0.003652438521385193, 0.003067572135478258], [3.3770927387877236e-08, 5.084512508801708e-07, 9.405846768117954e-09, 6.895349088154035e-06, 3.966866188420681e-06, 2.355406422793749e-06, 2.6662011265443653e-08, 5.54009329789551e-06, 5.533882685426761e-08, 0.0005860147066414356, 2.3644572877401515e-07, 9.222610515280394e-07, 5.533882685426761e-08, 2.5463972633588128e-05, 0.0018151915865018964, 2.3287000203708885e-06, 1.066869437238438e-08, 2.0291447810905083e-07, 0.00020198783022351563, 1.4093290978678397e-08, 1.1922693374799564e-06, 2.6040911507152487e-06, 6.11762789048953e-06, 2.7460256291078622e-08, 5.533882685426761e-08, 4.620107176833699e-07, 0.0004846034571528435, 0.0003680429654195905], [3.878295373738183e-08, 7.160946893236542e-07, 1.1434726054915245e-08, 8.990447895484976e-06, 5.948457783233607e-06, 3.1563624816044467e-06, 3.200987208629158e-08, 6.938135811651591e-06, 7.468533880228279e-08, 0.0006315148784779012, 3.293248482805211e-07, 1.2595389762282139e-06, 7.468533880228279e-08, 3.0345050618052483e-05, 0.0021022611763328314, 3.2933851343841525e-06, 1.4125067338000008e-08, 2.3379415381441504e-07, 0.0002397392236161977, 1.865832288672209e-08, 1.7048714653356e-06, 3.2077255127660464e-06, 9.43916711548809e-06, 3.2302427399599765e-08, 7.468533880228279e-08, 6.300497261690907e-07, 0.0004829407553188503, 0.00036362026003189385], [0.0008646099595353007, 0.0013077332405373454, 0.0006141773774288595, 0.0025714519433677197, 0.0021936697885394096, 0.00160679267719388, 0.000814763770904392, 0.002424529753625393, 0.0009272151510231197, 0.0075517138466238976, 0.0011183882597833872, 0.00125279335770756, 0.0009272151510231197, 0.003015702124685049, 0.009421812370419502, 0.0016922864597290754, 0.0005949165788479149, 0.0012954059056937695, 0.005352027248591185, 0.0006140160257928073, 0.0015170597471296787, 0.0018484052270650864, 0.00195914669893682, 0.0008042117697186768, 0.0009272151510231197, 0.0012988867238163948, 0.007241653744131327, 0.006672590505331755], [4.56687798688904e-09, 9.935526179560839e-08, 1.1088689966243237e-09, 1.7205164795086603e-06, 1.0432961516926298e-06, 5.63034632250492e-07, 3.279707172509916e-09, 1.4471437452812097e-06, 7.77436071075499e-09, 0.00026025722036138177, 4.1642831405397374e-08, 1.9013502594589227e-07, 7.77436071075499e-09, 7.911131433502305e-06, 0.0009149789693765342, 5.607849971056567e-07, 1.1943900313227118e-09, 3.47578072990018e-08, 8.327479008585215e-05, 1.7220519454852479e-09, 2.5730423658387735e-07, 5.728509222535649e-07, 1.7353241901219008e-06, 3.623725763901575e-09, 7.77436071075499e-09, 8.877510992988391e-08, 0.00020129021140746772, 0.00014222033496480435], [0.0002489553880877793, 0.0005629128427244723, 0.00015007538604550064, 0.0013187462463974953, 0.0011729856487363577, 0.0008831184823065996, 0.00017663986363913864, 0.00118521717377007, 0.00022341427393257618, 0.0072507914155721664, 0.0003849605855066329, 0.0006681709201075137, 0.00022341427393257618, 0.002381915459409356, 0.010906045325100422, 0.000872404663823545, 0.0001294209505431354, 0.0003392172511667013, 0.005033821798861027, 0.00014325893425848335, 0.0007636866066604853, 0.0009597659227438271, 0.0013006358640268445, 0.00017759422189556062, 0.00022341427393257618, 0.0004514060856308788, 0.0063385567627847195, 0.005885416176170111], [6.709962363515842e-09, 1.4146203852760664e-07, 1.7073508162823714e-09, 2.4349142222490627e-06, 1.2067927173120552e-06, 7.395381658170663e-07, 5.108244494067549e-09, 1.990105147342547e-06, 1.1895637364034428e-08, 0.00030968908686190844, 6.035362076772799e-08, 2.6572922706691315e-07, 1.1895637364034428e-08, 9.524204870103858e-06, 0.0010483342921361327, 6.998135404501227e-07, 1.8202581664183981e-09, 5.1224532171545434e-08, 0.00010545889381319284, 2.7331148455544962e-09, 3.2212935252573516e-07, 8.42317263050063e-07, 2.291833652634523e-06, 5.899391197772275e-09, 1.1895637364034428e-08, 1.2822734163364657e-07, 0.00024849665351212025, 0.0001700580323813483], [4.060989624576905e-07, 4.1221233004762325e-06, 1.4492269428956206e-07, 3.296508657513186e-05, 2.2858366719447076e-05, 1.337274534307653e-05, 3.071116339015134e-07, 2.898234197346028e-05, 6.248226895877451e-07, 0.0013273210497573018, 1.996107812374248e-06, 7.07634490026976e-06, 6.248226895877451e-07, 9.696695633465424e-05, 0.0031585772521793842, 1.4102091881795786e-05, 1.511071872073444e-07, 1.6731107734813122e-06, 0.0005474024801515043, 1.9876782175742846e-07, 8.24730159365572e-06, 1.4616468433814589e-05, 3.402717993594706e-05, 3.4378834357085e-07, 6.248226895877451e-07, 3.6849619391432498e-06, 0.0010606423020362854, 0.000804922659881413], [3.916740354270587e-08, 5.189058356336318e-07, 1.0933667304868777e-08, 6.2984895521367434e-06, 4.327637270762352e-06, 2.2478568553196965e-06, 2.6882801762440067e-08, 5.4186289162316825e-06, 5.4861267528849567e-08, 0.0004590355674736202, 2.4769204287622415e-07, 8.541907732251275e-07, 5.4861267528849567e-08, 2.4129292796715163e-05, 0.0014243006007745862, 2.239421974081779e-06, 1.0660443194865366e-08, 2.159913776722533e-07, 0.00018201200873591006, 1.4766158962231657e-08, 1.2233828101670952e-06, 2.1844625734956935e-06, 5.711588073609164e-06, 2.8065992196957268e-08, 5.4861267528849567e-08, 4.4559146772371605e-07, 0.00037842345773242414, 0.0003006884944625199], [1.8745855978608006e-09, 5.798706226300965e-08, 4.447268664442561e-10, 1.0588718168946798e-06, 6.045820555300452e-07, 3.370517163148179e-07, 1.437064356402118e-09, 8.812192504592531e-07, 3.6858764929093013e-09, 0.00018419686239212751, 2.1685774953539294e-08, 1.1055541904170241e-07, 3.6858764929093013e-09, 5.394309027906274e-06, 0.0006690639420412481, 3.448423342433671e-07, 5.089219046183757e-10, 1.636784574543526e-08, 6.0899215895915404e-05, 7.747207320107918e-10, 1.4819735838500492e-07, 3.6202536080054415e-07, 1.104851776290161e-06, 1.647589842335151e-09, 3.6858764929093013e-09, 4.9869314011630195e-08, 0.00013228252646513283, 9.76744486251846e-05], [2.001885513891466e-05, 7.89514888310805e-05, 9.631458851799835e-06, 0.0003298030933365226, 0.00029094863566569984, 0.00019052829884458333, 1.567790786793921e-05, 0.0003217277117073536, 2.4315140763064846e-05, 0.00391149939969182, 5.450968092191033e-05, 0.00010951647709589452, 2.4315140763064846e-05, 0.0006684802356176078, 0.007299027405679226, 0.00018548026855569333, 9.725689778861124e-06, 4.9130678235087544e-05, 0.002018945524469018, 1.117752708523767e-05, 0.00013047168613411486, 0.00018624415679369122, 0.00032137075322680175, 1.723443710943684e-05, 2.4315140763064846e-05, 7.125626143533736e-05, 0.0035593234933912754, 0.0028758698608726263], [0.00023245243937708437, 0.0006023119203746319, 0.00014096061931923032, 0.0015169010730460286, 0.001312974956817925, 0.0009440604480914772, 0.00020072373445145786, 0.001340670743957162, 0.0002715978189371526, 0.008030525408685207, 0.0004377251025289297, 0.0006693803588859737, 0.0002715978189371526, 0.002327993744984269, 0.011825388297438622, 0.000953061506152153, 0.00014435888442676514, 0.00040974083822220564, 0.005260196048766375, 0.00014971246127970517, 0.0007911379798315465, 0.0010013255523517728, 0.0014585028402507305, 0.00018913322128355503, 0.0002715978189371526, 0.0005252829287201166, 0.00730909314006567, 0.006296241190284491], [0.002122679026797414, 0.0021558040753006935, 0.0016938857734203339, 0.0027596144936978817, 0.002829229226335883, 0.002341902581974864, 0.0017408746061846614, 0.0026570153422653675, 0.0018481307197362185, 0.004924744367599487, 0.0018234426388517022, 0.0018984668422490358, 0.0018481307197362185, 0.003588989144191146, 0.00644141947850585, 0.002214935841038823, 0.0015161316841840744, 0.0019363524625077844, 0.004008376505225897, 0.0014662338653579354, 0.0022513733711093664, 0.002443467266857624, 0.0024658734910190105, 0.0017851351294666529, 0.0018481307197362185, 0.00185420794878155, 0.005306812934577465, 0.005379725247621536]], [[2.929384663730161e-07, 7.995240025593375e-07, 1.1459705007155208e-07, 5.780796072940575e-06, 2.309597448402201e-06, 2.8046922579960665e-06, 1.224310466341194e-07, 1.2752663678838871e-05, 1.8328718454085902e-07, 0.00022522649669554085, 1.8482896848581731e-06, 3.61408478966041e-06, 1.8328718454085902e-07, 9.848791705735493e-06, 2.4648727048770525e-05, 9.840078746492509e-06, 2.098869167355133e-08, 7.593254167659325e-07, 5.234583295532502e-05, 1.3765161099854595e-07, 3.9146839299064595e-06, 1.9433653051237343e-06, 5.041017629991984e-06, 5.379200729294098e-08, 1.8328718454085902e-07, 6.545500923493819e-07, 6.328587187454104e-05, 7.811982504790649e-05], [0.0005072981002740562, 0.000577696948312223, 0.0003267385473009199, 0.001484376611188054, 0.0008324466762132943, 0.0010541552910581231, 0.00027420290280133486, 0.00178857846185565, 0.0003208838461432606, 0.005672728642821312, 0.0008655253914184868, 0.001132739125750959, 0.0003208838461432606, 0.0017555345548316836, 0.0022356240078806877, 0.001558526884764433, 0.0001273761736229062, 0.0004918055492453277, 0.0032588401809334755, 0.00031638037762604654, 0.0011106409365311265, 0.0009790268959477544, 0.0012329196324571967, 0.00021377754455897957, 0.0003208838461432606, 0.0005256116855889559, 0.0032838922925293446, 0.003371771890670061], [4.338017333793687e-06, 8.435048584942706e-06, 2.006333261306281e-06, 4.4835283915745094e-05, 1.9551345758372918e-05, 2.391251655353699e-05, 1.8569888879937935e-06, 8.117804100038484e-05, 2.619151246108231e-06, 0.0008046485017985106, 1.770938433764968e-05, 2.875421523640398e-05, 2.619151246108231e-06, 6.101897088228725e-05, 0.0001325919001828879, 6.694944750051945e-05, 4.6883752702342463e-07, 7.660712071810849e-06, 0.00024370106984861195, 2.068740514005185e-06, 3.0820629035588354e-05, 1.783776497177314e-05, 3.8252415833994746e-05, 9.804438150240458e-07, 2.619151246108231e-06, 6.7887044679082464e-06, 0.0002756432513706386, 0.00034013044205494225], [3.8803111834795345e-08, 1.6773026345617836e-07, 1.3692114997354565e-08, 1.3407773167273263e-06, 5.576263788498181e-07, 5.941905669715197e-07, 2.0855216220638795e-08, 3.6796359381696675e-06, 3.049809649269264e-08, 8.48331255838275e-05, 4.185160946690303e-07, 8.331603567057755e-07, 3.049809649269264e-08, 2.903365611928166e-06, 7.693340194236953e-06, 2.5533004190947395e-06, 2.3446795616166582e-09, 1.4701063832944783e-07, 1.6560328731429763e-05, 2.4282645227913235e-08, 9.616294391889824e-07, 4.497178451856598e-07, 1.0881652769967332e-06, 7.797158474431853e-09, 3.049809649269264e-08, 1.507882387841164e-07, 2.2113048544269986e-05, 2.8834941986133344e-05], [0.0005395457264967263, 0.0006106158834882081, 0.00035375362494960427, 0.0016860923497006297, 0.0009590963018126786, 0.0010477296309545636, 0.0002933067153207958, 0.0016881526680663228, 0.0003439526481088251, 0.005699217785149813, 0.0009776052320376039, 0.0010831124382093549, 0.0003439526481088251, 0.0015693149762228131, 0.0022246914450079203, 0.001745416782796383, 0.00014783516235183924, 0.0005289681139402092, 0.0031725990120321512, 0.0003608006227295846, 0.0011538701364770532, 0.000943339429795742, 0.0012258472852408886, 0.00020767455862369388, 0.0003439526481088251, 0.0005203375476412475, 0.0032153287902474403, 0.0035657465923577547], [1.4256644135457464e-05, 2.8853506591985933e-05, 7.3252449510619044e-06, 0.00013601366663351655, 6.780526018701494e-05, 7.669557817280293e-05, 8.324840564455371e-06, 0.00018561880278866738, 1.1230633390368894e-05, 0.001441019237972796, 5.5376149248331785e-05, 0.00010103658132720739, 1.1230633390368894e-05, 0.00018009312043432146, 0.00034287580638192594, 0.0001868226972874254, 2.4710220714041498e-06, 2.4216953534050845e-05, 0.0005732038407586515, 9.8823447842733e-06, 0.00010073620796902105, 6.560501788044348e-05, 0.00012007399345748127, 4.106801952730166e-06, 1.1230633390368894e-05, 2.7595613573794253e-05, 0.0006787995807826519, 0.0006688407156616449], [2.1650913595294696e-07, 5.595766765509325e-07, 8.0782740496943e-08, 3.7602092106681084e-06, 1.5537349327132688e-06, 1.908707645270624e-06, 7.857865824689725e-08, 9.254291398974601e-06, 1.2437793373010209e-07, 0.00017084827413782477, 1.161059799414943e-06, 2.2337219434120925e-06, 1.2437793373010209e-07, 6.626907634199597e-06, 1.6070271158241667e-05, 6.686818323942134e-06, 1.1279271738828811e-08, 5.32976514477923e-07, 3.329685205244459e-05, 8.758620140270068e-08, 2.4979524368973216e-06, 1.2248461871422478e-06, 3.2580001061432995e-06, 3.410755056165726e-08, 1.2437793373010209e-07, 4.076873665326275e-07, 4.364367850939743e-05, 5.5368545872624964e-05], [0.0016437775921076536, 0.0014002675889059901, 0.0012180906487628818, 0.0027349446900188923, 0.0018290585139766335, 0.0023351022973656654, 0.0008358141058124602, 0.0031329202465713024, 0.0010470086708664894, 0.005980889778584242, 0.002019801875576377, 0.002141977660357952, 0.0010470086708664894, 0.002265779534354806, 0.0032522857654839754, 0.0029392505530267954, 0.000537687330506742, 0.0012362465495243669, 0.003698364133015275, 0.0010192855261266232, 0.002075155498459935, 0.001865639234893024, 0.0026121907867491245, 0.000714054680429399, 0.0010470086708664894, 0.001186296925880015, 0.0037783856969326735, 0.004358329810202122], [7.826086402928922e-06, 1.4949436263123062e-05, 3.6994968013459584e-06, 6.248678982956335e-05, 3.264148472226225e-05, 3.967120937886648e-05, 3.3624057778069982e-06, 0.00012478868302423507, 4.818817615159787e-06, 0.000959778786636889, 2.753368971752934e-05, 4.582666224450804e-05, 4.818817615159787e-06, 9.326283179689199e-05, 0.00018020487914327532, 9.906500781653449e-05, 8.727977274247678e-07, 1.2669562238443177e-05, 0.0003044468758162111, 3.89396973332623e-06, 4.755748886964284e-05, 3.0105953555903398e-05, 6.36957774986513e-05, 1.934846977746929e-06, 4.818817615159787e-06, 1.198355766973691e-05, 0.0003424379101488739, 0.00041904064710251987], [0.006423162762075663, 0.002121406141668558, 0.008346911519765854, 0.00097934459336102, 0.000988508458249271, 0.0011130598140880466, 0.0037782860454171896, 0.0005771447322331369, 0.003772350959479809, 0.00017246884817723185, 0.0016511769499629736, 0.0007649390026926994, 0.003772350959479809, 0.0004940477083437145, 0.0003631932195276022, 0.000776005326770246, 0.008099997416138649, 0.0015094310510903597, 0.00026899640215560794, 0.004345640540122986, 0.0008907740120775998, 0.0013400317402556539, 0.0008209072984755039, 0.005940836854279041, 0.003772350959479809, 0.001536581781692803, 0.00021586474031209946, 0.00027486737235449255], [0.00022806372726336122, 0.00027608912205323577, 0.00013384658086579293, 0.0008396487100981176, 0.0004143100813962519, 0.0005448588053695858, 0.00010941203072434291, 0.0011109259212389588, 0.0001367963559459895, 0.004106177017092705, 0.0005057962262071669, 0.0005474358913488686, 0.0001367963559459895, 0.00082781893434003, 0.0013716539833694696, 0.0010363354813307524, 4.1774317651288584e-05, 0.00021117574942763895, 0.001788423047401011, 0.00012946104106958956, 0.0006159623735584319, 0.00048031669575721025, 0.0006598653853870928, 7.286960317287594e-05, 0.0001367963559459895, 0.00021748476137872785, 0.0018329710001125932, 0.0024028036277741194], [0.00025030109100043774, 0.00037063166382722557, 0.00015591218834742904, 0.0010653308127075434, 0.0005549619672819972, 0.0006666323752142489, 0.00014493775961454958, 0.0012428353074938059, 0.00017934570496436208, 0.0048013064078986645, 0.0005578581476584077, 0.0007067712140269578, 0.00017934570496436208, 0.0009785324800759554, 0.001834019785746932, 0.001222586608491838, 5.82535176363308e-05, 0.00031102291541174054, 0.0022820336744189262, 0.00017186639888677746, 0.0007146242423914373, 0.0005567646003328264, 0.0008898566593416035, 9.181434870697558e-05, 0.00017934570496436208, 0.00029868652927689254, 0.0026633029337972403, 0.002804691204801202], [7.826086402928922e-06, 1.4949436263123062e-05, 3.6994968013459584e-06, 6.248678982956335e-05, 3.264148472226225e-05, 3.967120937886648e-05, 3.3624057778069982e-06, 0.00012478868302423507, 4.818817615159787e-06, 0.000959778786636889, 2.753368971752934e-05, 4.582666224450804e-05, 4.818817615159787e-06, 9.326283179689199e-05, 0.00018020487914327532, 9.906500781653449e-05, 8.727977274247678e-07, 1.2669562238443177e-05, 0.0003044468758162111, 3.89396973332623e-06, 4.755748886964284e-05, 3.0105953555903398e-05, 6.36957774986513e-05, 1.934846977746929e-06, 4.818817615159787e-06, 1.198355766973691e-05, 0.0003424379101488739, 0.00041904064710251987], [0.006055314093828201, 0.002375630894675851, 0.006940457504242659, 0.0017832483863458037, 0.0014892133185639977, 0.0018357421504333615, 0.00341865629889071, 0.0011807852424681187, 0.0031722947023808956, 0.0006555019645020366, 0.002496306784451008, 0.0014757130993530154, 0.0031722947023808956, 0.000982460449449718, 0.0009540015016682446, 0.0014777047326788306, 0.005273168906569481, 0.0018107150681316853, 0.0007025076192803681, 0.003958558663725853, 0.001596655696630478, 0.002268243581056595, 0.001386768650263548, 0.004519487265497446, 0.0031722947023808956, 0.0019159507937729359, 0.0007054419838823378, 0.0006825302843935788], [0.005498373880982399, 0.002325694775208831, 0.006226761266589165, 0.0017140901181846857, 0.0015888544730842113, 0.001818448188714683, 0.0037061525508761406, 0.001196104334667325, 0.0034839571453630924, 0.0005327845574356616, 0.002423505764454603, 0.0013631770852953196, 0.0034839571453630924, 0.0009410774218849838, 0.0008736791787669063, 0.0012981804320588708, 0.005433476530015469, 0.0017894324846565723, 0.0006760359974578023, 0.004178887233138084, 0.00141333497595042, 0.0020509527530521154, 0.0014076892985031009, 0.004779962357133627, 0.0034839571453630924, 0.0019184928387403488, 0.000553712947294116, 0.0006930677336640656], [0.001731043099425733, 0.0016294146189466119, 0.001301127951592207, 0.003512466559186578, 0.0018978365696966648, 0.0022684321738779545, 0.000885016459506005, 0.002852212404832244, 0.0010420690523460507, 0.005849530454725027, 0.002500914502888918, 0.0022817160934209824, 0.0010420690523460507, 0.002442107303068042, 0.003814695170149207, 0.0032077408395707607, 0.0006431379588320851, 0.001103825867176056, 0.0038769161328673363, 0.001186938607133925, 0.0023996143136173487, 0.0023587802425026894, 0.0026608966290950775, 0.0007156829815357924, 0.0010420690523460507, 0.0012129724491387606, 0.0037316896487027407, 0.003914693370461464], [4.2641466279746965e-05, 5.136351319379173e-05, 2.205931923526805e-05, 0.00023511277686338872, 9.176525054499507e-05, 0.00011479175736894831, 1.3890643458580598e-05, 0.00031525720260106027, 1.9983765014330857e-05, 0.0019138657953590155, 0.00010959796054521576, 0.00012026929471176118, 1.9983765014330857e-05, 0.000203021802008152, 0.0004463976074475795, 0.0002793516905512661, 4.496713700063992e-06, 3.69121553376317e-05, 0.0006134260329417884, 1.9077264369116165e-05, 0.00013365191989578307, 9.749499440658838e-05, 0.0001581678370712325, 8.996391443361063e-06, 1.9983765014330857e-05, 3.680736699607223e-05, 0.0006846751202829182, 0.0008269019308499992], [0.00585721991956234, 0.002568383701145649, 0.005410134792327881, 0.0028103163931518793, 0.001922475639730692, 0.0025516324676573277, 0.002476840279996395, 0.002278061117976904, 0.0026181673165410757, 0.001723528141155839, 0.0027631111443042755, 0.002282202709466219, 0.0026181673165410757, 0.0017462405376136303, 0.0015663154190406203, 0.002603615866973996, 0.0029032486490905285, 0.0016479650512337685, 0.0016848337836563587, 0.0029025436379015446, 0.0021821525879204273, 0.0025566888507455587, 0.0022996498737484217, 0.0027758569922298193, 0.0026181673165410757, 0.0017494730418547988, 0.0013940969947725534, 0.0018096726853400469], [0.005879033822566271, 0.002754994435235858, 0.006344308611005545, 0.0020341924391686916, 0.0016341876471415162, 0.001932100160047412, 0.003412317018955946, 0.001384969218634069, 0.0034076422452926636, 0.0008570801583118737, 0.0024529765360057354, 0.001476879813708365, 0.0034076422452926636, 0.0012369259493425488, 0.0010462846839800477, 0.0016897724708542228, 0.004521493334323168, 0.00218890025280416, 0.0009487163624726236, 0.003835504874587059, 0.0016494013834744692, 0.002160863485187292, 0.0016389345983043313, 0.004016124177724123, 0.0034076422452926636, 0.002011410426348448, 0.000891725008841604, 0.0010381508618593216], [4.129911758354865e-05, 5.164349568076432e-05, 2.098625736834947e-05, 0.0002210692036896944, 9.659921488491818e-05, 0.0001255558308912441, 1.545677332615014e-05, 0.00033551634987816215, 2.0536761439871043e-05, 0.001858909847214818, 0.00010224438301520422, 0.00012819634866900742, 2.0536761439871043e-05, 0.0002169147483073175, 0.0004225201846566051, 0.0002872791956178844, 4.389140030980343e-06, 3.740398460649885e-05, 0.000674172246363014, 1.8340359019930474e-05, 0.0001373038103338331, 0.00010160313831875101, 0.00016162366955541074, 9.031027730088681e-06, 2.0536761439871043e-05, 3.624326200224459e-05, 0.000693955400492996, 0.0009231804870069027], [0.00023984290601219982, 0.0003390628844499588, 0.0001470504648750648, 0.0010581527603790164, 0.0005041334661655128, 0.0006866331095807254, 0.0001268298801733181, 0.00126449519302696, 0.00015561538748443127, 0.004660418257117271, 0.0005881045944988728, 0.000736108748242259, 0.00015561538748443127, 0.0010070130228996277, 0.0018262519733980298, 0.0012164968065917492, 5.454365600598976e-05, 0.00026777354651130736, 0.0024061778094619513, 0.00015749447629787028, 0.0007396395085379481, 0.0006023451569490135, 0.0009334901697002351, 8.651253301650286e-05, 0.00015561538748443127, 0.0002886940201278776, 0.002390611916780472, 0.0025371096562594175], [1.1126159733976237e-05, 2.1349773305701092e-05, 5.373829026211752e-06, 9.763737762114033e-05, 4.274283492122777e-05, 4.8731890274211764e-05, 4.889451702183578e-06, 0.00013419226161204278, 6.866247986181406e-06, 0.0011993590742349625, 4.160856406087987e-05, 5.3212628699839115e-05, 6.866247986181406e-06, 0.000113786751171574, 0.00025371526135131717, 0.00011421679664636031, 1.2304717529332265e-06, 1.4426359484787099e-05, 0.0003427164047025144, 6.3302877606474794e-06, 6.067315553082153e-05, 4.414129216456786e-05, 7.099887443473563e-05, 2.6950715437124018e-06, 6.866247986181406e-06, 1.622898162167985e-05, 0.00042013623169623315, 0.000499027140904218], [0.000339144462486729, 0.00045514831435866654, 0.0002141157747246325, 0.0012589023681357503, 0.0006906826165504754, 0.0007795783458277583, 0.00019040617917198688, 0.0013790518278256059, 0.00023306858201976866, 0.004996823612600565, 0.0007268493063747883, 0.0009284015977755189, 0.00023306858201976866, 0.0012319596717134118, 0.0019941984210163355, 0.0014857605565339327, 8.503723802277818e-05, 0.00035677265259437263, 0.0025741865392774343, 0.00022825240739621222, 0.00094498076941818, 0.000770163896959275, 0.0010587067808955908, 0.00012762971164193004, 0.00023306858201976866, 0.00038521361420862377, 0.0028176549822092056, 0.0030253727454692125], [4.703969125330332e-08, 1.8325820860809472e-07, 1.6384250400847122e-08, 1.6284042203551508e-06, 6.4415593215017e-07, 7.667808290534595e-07, 2.1197699595632002e-08, 3.915334673365578e-06, 3.3190083570389106e-08, 9.231157309841365e-05, 4.7116986934270244e-07, 1.0886352583838743e-06, 3.3190083570389106e-08, 3.3003232147166273e-06, 9.875852811092045e-06, 2.9945254027552437e-06, 2.750293992548336e-09, 1.450102331546077e-07, 1.94282711163396e-05, 2.49645619732064e-08, 1.1913920161532587e-06, 5.28048190062691e-07, 1.6864184999576537e-06, 7.862313466944215e-09, 3.3190083570389106e-08, 1.4853756624688685e-07, 2.3067354049999267e-05, 2.8013502742396668e-05], [7.826086402928922e-06, 1.4949436263123062e-05, 3.6994968013459584e-06, 6.248678982956335e-05, 3.264148472226225e-05, 3.967120937886648e-05, 3.3624057778069982e-06, 0.00012478868302423507, 4.818817615159787e-06, 0.000959778786636889, 2.753368971752934e-05, 4.582666224450804e-05, 4.818817615159787e-06, 9.326283179689199e-05, 0.00018020487914327532, 9.906500781653449e-05, 8.727977274247678e-07, 1.2669562238443177e-05, 0.0003044468758162111, 3.89396973332623e-06, 4.755748886964284e-05, 3.0105953555903398e-05, 6.36957774986513e-05, 1.934846977746929e-06, 4.818817615159787e-06, 1.198355766973691e-05, 0.0003424379101488739, 0.00041904064710251987], [0.0007791004027239978, 0.0007521928637288511, 0.0005114374798722565, 0.0020624997559934855, 0.0010706237517297268, 0.0012940076412633061, 0.0003550324763637036, 0.001962861279025674, 0.0004433515132404864, 0.005523013416677713, 0.0012059833388775587, 0.0012703313259407878, 0.0004433515132404864, 0.0018246563849970698, 0.0025439125020056963, 0.0020361749920994043, 0.00017740049224812537, 0.0004555046034511179, 0.003235049545764923, 0.0004389569803606719, 0.0012745535932481289, 0.0011706065852195024, 0.001548326457850635, 0.00025754363741725683, 0.0004433515132404864, 0.000586546550039202, 0.0029249065555632114, 0.0038660939317196608], [0.00546168303117156, 0.0012671725125983357, 0.009100040420889854, 0.00040888815419748425, 0.00046035205014050007, 0.0005621383897960186, 0.003699089167639613, 0.00017516363004688174, 0.0030958405695855618, 2.4262537408503704e-05, 0.0008245200151577592, 0.0003513717092573643, 0.0030958405695855618, 0.00015329569578170776, 9.92020359262824e-05, 0.00024178264720831066, 0.012762398459017277, 0.0008957816753536463, 5.449375385069288e-05, 0.0041382936760783195, 0.0003537797019816935, 0.0006462862947955728, 0.00035218155244365335, 0.007015421520918608, 0.0030958405695855618, 0.0009387890459038317, 4.302430170355365e-05, 4.8477017116965726e-05], [0.0054505798034369946, 0.002256685169413686, 0.006294300779700279, 0.0017586331814527512, 0.0014935503713786602, 0.001853613299317658, 0.0038735498674213886, 0.0011533917859196663, 0.003601492615416646, 0.0005036764196120203, 0.0021928157657384872, 0.0013792547397315502, 0.003601492615416646, 0.0008846098207868636, 0.0008380922954529524, 0.0013698129914700985, 0.006087475456297398, 0.00181303930003196, 0.0006694186595268548, 0.00397871108725667, 0.00141568121034652, 0.001902664196677506, 0.0013673817738890648, 0.004479062743484974, 0.003601492615416646, 0.0019080991623923182, 0.0005377683555707335, 0.0006230475264601409]], [[0.0172297153621912, 9.54857750912197e-05, 0.012291020713746548, 3.301612377981655e-05, 4.0508370148018e-05, 4.3289193854434416e-05, 0.0003207972622476518, 9.075136767933145e-05, 0.00015939601871650666, 4.038029601360904e-06, 6.956808647373691e-05, 5.3781637689098716e-05, 0.00015939601871650666, 1.956916821654886e-05, 8.768715815676842e-06, 0.00010015487350756302, 0.0005648711230605841, 0.00011215182166779414, 8.398626050620805e-06, 0.0003032507956959307, 0.00012214697198942304, 1.6184390915441327e-05, 2.7009880795958452e-05, 0.011283877305686474, 0.00015939601871650666, 3.8465081161120906e-05, 6.354590823320905e-06, 1.1307957720418926e-05], [0.01617390289902687, 0.0008908881573006511, 0.01315668411552906, 0.0004970267182216048, 0.0005341476644389331, 0.0005596306291408837, 0.0016212916234508157, 0.0008281056652776897, 0.0010276839602738619, 0.0001298793067689985, 0.0007763500325381756, 0.0006262878305278718, 0.0010276839602738619, 0.00035173905780538917, 0.0001929919235408306, 0.0008055947255343199, 0.0022050493862479925, 0.0007717504049651325, 0.00016381863679271191, 0.0018415305530652404, 0.001023271237500012, 0.00037573149893432856, 0.00046843962627463043, 0.01007540337741375, 0.0010276839602738619, 0.0005192678072489798, 0.0001268966734642163, 0.00021258469496387988], [0.01641247607767582, 2.950007183244452e-05, 0.011104220524430275, 7.935816029203124e-06, 1.0587817087071016e-05, 1.0794407899084035e-05, 0.00012335927749518305, 2.7038948246627115e-05, 5.642386167892255e-05, 6.06249557222327e-07, 2.0337516616564244e-05, 1.3930328350397758e-05, 5.642386167892255e-05, 4.015525064460235e-06, 1.5250926708176848e-06, 2.8752878279192373e-05, 0.0002643242187332362, 3.593660949263722e-05, 1.3615623402074561e-06, 0.00012484643957577646, 3.7415964470710605e-05, 3.44027603205177e-06, 5.991840225760825e-06, 0.00927713606506586, 5.642386167892255e-05, 9.216557373292744e-06, 1.0586155667624553e-06, 2.059001872112276e-06], [0.003527220105752349, 0.0026733032427728176, 0.003194924909621477, 0.003445814596489072, 0.002401780802756548, 0.0031802381854504347, 0.002750451909378171, 0.002616749843582511, 0.0022930826526135206, 0.0017240553861483932, 0.0028718526009470224, 0.0025254087522625923, 0.0022930826526135206, 0.0023230540100485086, 0.002215516986325383, 0.002597694518044591, 0.0029697823338210583, 0.002042862121015787, 0.0022676291409879923, 0.0031705647706985474, 0.00277610938064754, 0.002916900673881173, 0.0038604391738772392, 0.0020486966241151094, 0.0022930826526135206, 0.003040156327188015, 0.0015945510240271688, 0.002099433448165655], [0.01613663136959076, 0.0009677248890511692, 0.013155734166502953, 0.0006466186023317277, 0.0006777140661142766, 0.0007586379069834948, 0.0019198827212676406, 0.0009336867369711399, 0.0011842281091958284, 0.00016301685536745936, 0.0009220713400281966, 0.0006458672578446567, 0.0011842281091958284, 0.0003774159122258425, 0.0002646896755322814, 0.0008341737557202578, 0.002571855206042528, 0.0008868266013450921, 0.00023276924912352115, 0.0022469758987426758, 0.0010290886275470257, 0.0004975873744115233, 0.0006039167055860162, 0.008826876990497112, 0.0011842281091958284, 0.0006840944988653064, 0.0001750459778122604, 0.00028420856688171625], [0.01619192771613598, 0.0007226659799925983, 0.01283864863216877, 0.0003735693171620369, 0.0004291822842787951, 0.0004551749734673649, 0.0013685777084901929, 0.000579482817556709, 0.000910065951757133, 8.75245823408477e-05, 0.0005603371537290514, 0.0004491482104640454, 0.000910065951757133, 0.0002606797788757831, 0.0001531160087324679, 0.0006154883303679526, 0.0018780652899295092, 0.0006956090801395476, 0.00013737761764787138, 0.0014837293419986963, 0.0008135093958117068, 0.0002334641176275909, 0.0003172579745296389, 0.010818367823958397, 0.000910065951757133, 0.000376998825231567, 0.00011194094986421987, 0.00016109384887386113], [0.017558755353093147, 7.480201020371169e-05, 0.012570476159453392, 2.176884481741581e-05, 2.938705620181281e-05, 2.8657863367698155e-05, 0.0002439553354633972, 6.578679312951863e-05, 0.00011434898624429479, 2.061277427856112e-06, 4.83835356135387e-05, 3.449444557190873e-05, 0.00011434898624429479, 1.2063484064128716e-05, 5.099409918329911e-06, 6.510120147140697e-05, 0.0004726036568172276, 7.803893822710961e-05, 4.591764991346281e-06, 0.0002441897231619805, 8.710581460036337e-05, 9.813325050345156e-06, 1.8709466530708596e-05, 0.010940035805106163, 0.00011434898624429479, 2.7094734832644463e-05, 3.62820992449997e-06, 6.409850357158575e-06], [0.012013804167509079, 0.001534897368401289, 0.010065564885735512, 0.0011145116295665503, 0.0010932846926152706, 0.0012497289571911097, 0.0025899510364979506, 0.0013616792857646942, 0.001798677141778171, 0.000386077823350206, 0.0014117583632469177, 0.001075930893421173, 0.001798677141778171, 0.0007357193971984088, 0.0006303683039732277, 0.0014461317332461476, 0.0029215277172625065, 0.0014580709394067526, 0.0005712284473702312, 0.0026086950674653053, 0.001545488485135138, 0.0008244288619607687, 0.0010378906736150384, 0.009041421115398407, 0.001798677141778171, 0.0011747066164389253, 0.0004671139467973262, 0.0006132798152975738], [0.01761399582028389, 3.6334873584564775e-05, 0.012112053111195564, 9.970483006327413e-06, 1.3925333405495621e-05, 1.3686984857486095e-05, 0.00014242727775126696, 3.1737450626678765e-05, 6.516516441479325e-05, 7.00199336733931e-07, 2.8361606382532045e-05, 1.5322819308494218e-05, 6.516516441479325e-05, 4.8208034968411084e-06, 2.02519777303678e-06, 3.070141247007996e-05, 0.0003182905202265829, 4.011897908640094e-05, 1.510782908553665e-06, 0.00016644546121824533, 4.243573857820593e-05, 4.880183951172512e-06, 8.384450666198973e-06, 0.009199858643114567, 6.516516441479325e-05, 1.1872885806951672e-05, 1.1307140539429383e-06, 2.3783004508004524e-06], [0.01709889993071556, 0.00042512989602983, 0.013787398114800453, 0.00022895698202773929, 0.0002378647041041404, 0.00024079519789665937, 0.001018074108287692, 0.00041780967148952186, 0.0006349231698550284, 4.280302891856991e-05, 0.0004154390480834991, 0.0002521030546631664, 0.0006349231698550284, 0.00012021861039102077, 8.483090641675517e-05, 0.00039522090810351074, 0.001661423477344215, 0.0004294847312849015, 6.474097608588636e-05, 0.0011578509584069252, 0.000432714557973668, 0.0001539719378342852, 0.0001979783846763894, 0.010430554859340191, 0.0006349231698550284, 0.0002393309841863811, 5.6346696510445327e-05, 9.265646076528355e-05], [0.01965138129889965, 0.0004781768366228789, 0.014979195781052113, 0.0002234902058262378, 0.0002627562207635492, 0.00028982595540583134, 0.000988544663414359, 0.0003810580528806895, 0.0005980911664664745, 3.6264798836782575e-05, 0.00037069054087623954, 0.00025815589469857514, 0.0005980911664664745, 0.0001246226893272251, 6.561986083397642e-05, 0.0003947956720367074, 0.0015875404933467507, 0.00042162046884186566, 6.062988541088998e-05, 0.001135275699198246, 0.0004869435215368867, 0.00013470037083607167, 0.0002032031334238127, 0.009686914272606373, 0.0005980911664664745, 0.00022230418107938021, 4.482788062887266e-05, 7.316913979593664e-05], [0.01846378669142723, 0.000485431490233168, 0.014393082819879055, 0.00027343828696757555, 0.0002842953254003078, 0.0003140656335745007, 0.001155304373241961, 0.00044739709119312465, 0.0007490277057513595, 4.727215491584502e-05, 0.00046616268809884787, 0.0002896977530326694, 0.0007490277057513595, 0.00014035499771125615, 9.58737000473775e-05, 0.0004348264483269304, 0.0018702928209677339, 0.0004891576245427132, 7.839153113309294e-05, 0.0014037734363228083, 0.0005072894273325801, 0.00019657013763207942, 0.00023693966795690358, 0.00938341487199068, 0.0007490277057513595, 0.00027996633434668183, 6.32637384114787e-05, 0.00010236290836473927], [0.01761399582028389, 3.6334873584564775e-05, 0.012112053111195564, 9.970483006327413e-06, 1.3925333405495621e-05, 1.3686984857486095e-05, 0.00014242727775126696, 3.1737450626678765e-05, 6.516516441479325e-05, 7.00199336733931e-07, 2.8361606382532045e-05, 1.5322819308494218e-05, 6.516516441479325e-05, 4.8208034968411084e-06, 2.02519777303678e-06, 3.070141247007996e-05, 0.0003182905202265829, 4.011897908640094e-05, 1.510782908553665e-06, 0.00016644546121824533, 4.243573857820593e-05, 4.880183951172512e-06, 8.384450666198973e-06, 0.009199858643114567, 6.516516441479325e-05, 1.1872885806951672e-05, 1.1307140539429383e-06, 2.3783004508004524e-06], [0.012297620065510273, 0.0015341449761763215, 0.01054710429161787, 0.0011650407686829567, 0.0010699998820200562, 0.0011861843522638083, 0.0025081951171159744, 0.0012966615613549948, 0.001708894851617515, 0.0003472641110420227, 0.0015500026056542993, 0.0010222941637039185, 0.001708894851617515, 0.0006058166618458927, 0.0005698484019376338, 0.0012230202555656433, 0.0030749482102692127, 0.0015108860097825527, 0.000460358161944896, 0.0028028558008372784, 0.0014666158240288496, 0.0009621531353332102, 0.001067552948370576, 0.0075894733890891075, 0.001708894851617515, 0.0012470372021198273, 0.0003836978576146066, 0.0005884437123313546], [0.01608429290354252, 0.0010905844392254949, 0.013268118724226952, 0.000657749711535871, 0.0006361503037624061, 0.000761121220421046, 0.0019862952176481485, 0.0009249563445337117, 0.0012217825278639793, 0.00016124668763950467, 0.0009946119971573353, 0.0007057394250296056, 0.0012217825278639793, 0.00042324443347752094, 0.00031033915001899004, 0.0009128251695074141, 0.0026658668648451567, 0.0009540273458696902, 0.000239799395785667, 0.002475461456924677, 0.0011374973691999912, 0.0005289423279464245, 0.0007031921995803714, 0.008985649794340134, 0.0012217825278639793, 0.0007707028998993337, 0.0001916239270940423, 0.0003072149702347815], [0.011385105550289154, 0.0016424586065113544, 0.00951694417744875, 0.0013117423513904214, 0.001383794005960226, 0.0014319723704829812, 0.0026608859188854694, 0.001521943835541606, 0.002061390783637762, 0.000484179676277563, 0.0017558601684868336, 0.001197278150357306, 0.002061390783637762, 0.0008571543730795383, 0.0006930903764441609, 0.0015891186194494367, 0.003475514240562916, 0.0014625778421759605, 0.0006771499174647033, 0.0031371673103421926, 0.0016734310192987323, 0.0011714579304680228, 0.0012336609652265906, 0.006561969872564077, 0.002061390783637762, 0.0012188379187136889, 0.0005028594750910997, 0.0006682128296233714], [0.019779836758971214, 0.0001075184263754636, 0.01368127204477787, 4.3816235120175406e-05, 4.6971770643722266e-05, 5.714210055884905e-05, 0.0003636229957919568, 0.00011619451106525958, 0.00018878666742239147, 4.113348495593527e-06, 9.536048310110345e-05, 5.8526929933577776e-05, 0.00018878666742239147, 2.3703994884272106e-05, 1.1354406524333172e-05, 0.00010902527719736099, 0.0007167892763391137, 0.0001139462910941802, 7.774723599140998e-06, 0.000434662593761459, 0.00013063875667285174, 2.7728416171157733e-05, 3.7716468796133995e-05, 0.009430130012333393, 0.00018878666742239147, 4.7553341573802754e-05, 5.739215339417569e-06, 1.2132515621487983e-05], [0.01497609168291092, 0.000995631329715252, 0.012318974360823631, 0.0006102415500208735, 0.0006044839392416179, 0.0007043080986477435, 0.0020061254035681486, 0.000914220989216119, 0.0012588601093739271, 0.00018623184587340802, 0.0009323902195319533, 0.000707413419149816, 0.0012588601093739271, 0.00037357554538175464, 0.0003151361597701907, 0.0009507121285423636, 0.0026773835998028517, 0.0009055914124473929, 0.0002716898452490568, 0.002128009218722582, 0.0010601255344226956, 0.0005335461464710534, 0.0006342129199765623, 0.009884522296488285, 0.0012588601093739271, 0.0007641292759217322, 0.0002180922165280208, 0.00036170496605336666], [0.01735096052289009, 0.0005592743982560933, 0.013766804710030556, 0.0003035781846847385, 0.00031492835842072964, 0.00035790487891063094, 0.0012929303338751197, 0.0005816235207021236, 0.0007650069892406464, 5.886851795366965e-05, 0.0004929990391246974, 0.0003732309560291469, 0.0007650069892406464, 0.00019068463006988168, 0.0001160028186859563, 0.0005309990956448019, 0.0018871317151933908, 0.0005825174739584327, 9.413278894498944e-05, 0.001504371059127152, 0.000620333303231746, 0.00021558966545853764, 0.0002874582423828542, 0.01009946595877409, 0.0007650069892406464, 0.00031947463867254555, 8.409092697547749e-05, 0.000133247347548604], [0.019700076431035995, 0.00010465300874784589, 0.013998318463563919, 3.11200856231153e-05, 3.89918677683454e-05, 4.2098810808965936e-05, 0.0002994886599481106, 8.926842565415427e-05, 0.0001534798793727532, 3.1615354600944556e-06, 7.19753370503895e-05, 4.780227391165681e-05, 0.0001534798793727532, 1.6967283954727463e-05, 7.410725629597437e-06, 8.9835244580172e-05, 0.0005714877042919397, 0.00010298920824425295, 6.424743332900107e-06, 0.00032942480174824595, 0.00011237457511015236, 1.6263027646346018e-05, 2.8762648071278818e-05, 0.010264798067510128, 0.0001534798793727532, 3.663521783892065e-05, 4.851033736485988e-06, 9.06767036212841e-06], [0.013123011216521263, 0.001300491509027779, 0.011006057262420654, 0.001025832025334239, 0.0010191387264057994, 0.0011194288963451982, 0.0023894323967397213, 0.001265808823518455, 0.0017281787004321814, 0.0003291873726993799, 0.001526491018012166, 0.001008658204227686, 0.0017281787004321814, 0.0006788010941818357, 0.0004771196690853685, 0.0013140167575329542, 0.0031733785290271044, 0.001297524431720376, 0.00045620882883667946, 0.0027255110908299685, 0.0014951658667996526, 0.0008588896016590297, 0.0009573246352374554, 0.007536024786531925, 0.0017281787004321814, 0.000899300561286509, 0.0003633160376921296, 0.0005086411256343126], [0.021197190508246422, 8.092544157989323e-05, 0.014726449735462666, 2.2757003534934483e-05, 2.6786519811139442e-05, 3.193418888258748e-05, 0.00023510870232712477, 6.776385271223262e-05, 0.00011636238923529163, 1.7969483678825782e-06, 5.701637564925477e-05, 3.39977559633553e-05, 0.00011636238923529163, 1.1095733498223126e-05, 4.702469595940784e-06, 6.346721056615934e-05, 0.0005017633084207773, 7.339636067626998e-05, 3.5650837162393145e-06, 0.00031724211294203997, 7.516689947806299e-05, 1.3507531548384577e-05, 2.148311432392802e-05, 0.008430172689259052, 0.00011636238923529163, 2.7062083972850814e-05, 2.728324261624948e-06, 5.64849869988393e-06], [0.016937116160988808, 0.0006657689809799194, 0.01368170976638794, 0.0004209579201415181, 0.00045057464740239084, 0.00045329227577894926, 0.001424232730641961, 0.0005999262793920934, 0.0008945511654019356, 8.896852523321286e-05, 0.0006129187531769276, 0.00044019060442224145, 0.0008945511654019356, 0.00024995330022647977, 0.00015075622650329024, 0.0005888154846616089, 0.0018612327985465527, 0.0006870486540719867, 0.00012612392310984433, 0.0016747105401009321, 0.0007818585145287216, 0.0002613429678604007, 0.0003484082408249378, 0.009897641837596893, 0.0008945511654019356, 0.0003847065381705761, 0.00010362770990468562, 0.00016848773520905524], [0.016444580629467964, 9.636382856115233e-06, 0.010575683787465096, 2.0701381799881347e-06, 2.950466978290933e-06, 2.739447381827631e-06, 5.042280463385396e-05, 7.90001740824664e-06, 1.9529250494088046e-05, 9.268924117122879e-08, 6.190702606545528e-06, 3.6522324080578983e-06, 1.9529250494088046e-05, 8.25633264867065e-07, 2.735203850079415e-07, 7.654995897610206e-06, 0.00012838369002565742, 1.2370493095659185e-05, 2.3821202432827704e-07, 5.4484757129102945e-05, 1.1364790225343313e-05, 7.418580594276136e-07, 1.405179546054569e-06, 0.007280784659087658, 1.9529250494088046e-05, 2.3537672859674785e-06, 1.8484261943285674e-07, 3.887775505972968e-07], [0.01761399582028389, 3.6334873584564775e-05, 0.012112053111195564, 9.970483006327413e-06, 1.3925333405495621e-05, 1.3686984857486095e-05, 0.00014242727775126696, 3.1737450626678765e-05, 6.516516441479325e-05, 7.00199336733931e-07, 2.8361606382532045e-05, 1.5322819308494218e-05, 6.516516441479325e-05, 4.8208034968411084e-06, 2.02519777303678e-06, 3.070141247007996e-05, 0.0003182905202265829, 4.011897908640094e-05, 1.510782908553665e-06, 0.00016644546121824533, 4.243573857820593e-05, 4.880183951172512e-06, 8.384450666198973e-06, 0.009199858643114567, 6.516516441479325e-05, 1.1872885806951672e-05, 1.1307140539429383e-06, 2.3783004508004524e-06], [0.019291818141937256, 0.00032766451477073133, 0.014794646762311459, 0.00011984023149125278, 0.00014251249376684427, 0.0001554735063109547, 0.0007476445171050727, 0.00027939683059230447, 0.0004362183972261846, 2.120361205015797e-05, 0.00023093598429113626, 0.00017237485735677183, 0.0004362183972261846, 8.62642700667493e-05, 4.1432507714489475e-05, 0.00027548312209546566, 0.0011888178996741772, 0.00031682735425420105, 3.8186106394277886e-05, 0.0007915575988590717, 0.0003274052287451923, 7.832777191651985e-05, 0.00011790276039391756, 0.010452657006680965, 0.0004362183972261846, 0.0001544141850899905, 2.9423634259728715e-05, 4.9362257414031774e-05], [0.013982299715280533, 0.001091384212486446, 0.011879543773829937, 0.0007084832177497447, 0.0007811518153175712, 0.0008444697596132755, 0.0021711464505642653, 0.0011515563819557428, 0.001429119030945003, 0.00023218381102196872, 0.001112772966735065, 0.0008508426835760474, 0.001429119030945003, 0.0005284323124215007, 0.0003891967935487628, 0.0011020760284736753, 0.002841190667822957, 0.0010635253274813294, 0.00030694581801071763, 0.0024448386393487453, 0.001292673172429204, 0.0006530210375785828, 0.0007676687091588974, 0.00880277156829834, 0.001429119030945003, 0.0008115863893181086, 0.0002554155944380909, 0.00039806534186936915], [0.008686988614499569, 0.0019275018712505698, 0.00773978978395462, 0.0015472203958779573, 0.001389630138874054, 0.0018079831497743726, 0.0028479506727308035, 0.002034100703895092, 0.0022579883225262165, 0.0007723838789388537, 0.001787467859685421, 0.0017340568592771888, 0.0022579883225262165, 0.0013611064059659839, 0.0011022882536053658, 0.0021931000519543886, 0.0031708425376564264, 0.0019627681467682123, 0.0009374338551424444, 0.003028369043022394, 0.002182783093303442, 0.0014169029891490936, 0.0017373210284858942, 0.006448081694543362, 0.0022579883225262165, 0.0017104913713410497, 0.0008194352267310023, 0.0010815042769536376]], [[0.0007798927836120129, 0.0025096957106143236, 0.0011048921151086688, 0.0017020117957144976, 0.0018892193911597133, 0.005561099387705326, 0.0012235919712111354, 0.0024553011171519756, 0.001342999399639666, 0.00420079380273819, 0.002125620609149337, 0.00518826674669981, 0.001342999399639666, 0.005536286626011133, 0.0026914996560662985, 0.004420992452651262, 0.0007021718192845583, 0.0013309350470080972, 0.005041659343987703, 0.0015867199981585145, 0.004154214169830084, 0.002260774839669466, 0.005027934908866882, 0.001377826207317412, 0.001342999399639666, 0.0018817033851519227, 0.002987074200063944, 0.002490444341674447], [0.0020115848165005445, 0.0009527519578114152, 0.002866193884983659, 0.00017493576160632074, 0.00021616354933939874, 0.0003409961354918778, 0.004721743520349264, 0.00021418742835521698, 0.0027855923399329185, 5.492586569744162e-05, 0.0006132989656180143, 0.000637209857814014, 0.0027855923399329185, 0.00022741619613952935, 0.0002852914039976895, 0.0002463942510075867, 0.01832670345902443, 0.0006598855834454298, 0.00011598982382565737, 0.002205655910074711, 0.0006847192998975515, 0.0009146361844614148, 0.00031389074865728617, 0.0050481949001550674, 0.0027855923399329185, 0.0011252497788518667, 4.545262345345691e-05, 6.489215593319386e-05], [0.00218298751860857, 0.002108620712533593, 0.003262871177867055, 0.0005689990939572453, 0.000666698208078742, 0.0014794135931879282, 0.004561832174658775, 0.0007273901719599962, 0.003167535876855254, 0.00039435370126739144, 0.0013423266354948282, 0.002036815509200096, 0.003167535876855254, 0.0010970832081511617, 0.0009168698452413082, 0.001025557634420693, 0.008335196413099766, 0.0011233489494770765, 0.0007030116394162178, 0.0028634415939450264, 0.0019845047499984503, 0.0018599481554701924, 0.0013421648181974888, 0.005576947703957558, 0.003167535876855254, 0.0019995602779090405, 0.0002797255292534828, 0.0003088555531576276], [0.0006751831388100982, 0.0015897001139819622, 0.000694932066835463, 0.003073567757382989, 0.0023425056133419275, 0.0031344546005129814, 0.0007963140378706157, 0.002458618488162756, 0.0009201219654642045, 0.00642652902752161, 0.0016263645375147462, 0.002816399559378624, 0.0009201219654642045, 0.0032550443429499865, 0.003053246531635523, 0.003280442440882325, 0.0005542963044717908, 0.001574741443619132, 0.0046588885597884655, 0.001000998541712761, 0.0021864993032068014, 0.001938875182531774, 0.003446616232395172, 0.0006854702369309962, 0.0009201219654642045, 0.0014432081952691078, 0.00525653176009655, 0.004618410486727953], [0.0014559837291017175, 0.003176686819642782, 0.0017937704687938094, 0.0021035776007920504, 0.001956600695848465, 0.0035284690093249083, 0.002182946540415287, 0.002536418382078409, 0.0021773905027657747, 0.003558106254786253, 0.0024874077644199133, 0.0036780002992600203, 0.0021773905027657747, 0.0030656701419502497, 0.0029931410681456327, 0.0032538287341594696, 0.0024917081464082003, 0.0021609340328723192, 0.003158481093123555, 0.0024274990428239107, 0.0032668416388332844, 0.002967033302411437, 0.003616816597059369, 0.0024088937789201736, 0.0021773905027657747, 0.0029643482994288206, 0.0026451186276972294, 0.0022779067512601614], [0.0002126897597918287, 0.0023816160392016172, 0.0004016764578409493, 0.0008995664538815618, 0.0013402194017544389, 0.006357633974403143, 0.0005214972770772874, 0.0016367585631087422, 0.0007237595273181796, 0.004303853027522564, 0.0017647241475060582, 0.006747440900653601, 0.0007237595273181796, 0.007680249400436878, 0.002984448103234172, 0.004944164305925369, 0.0003629731945693493, 0.0012640322092920542, 0.005524866748601198, 0.0012385719455778599, 0.0044527784921228886, 0.0022389087826013565, 0.005201604682952166, 0.0006337090744636953, 0.0007237595273181796, 0.0019839478190988302, 0.0030784301925450563, 0.0022129486314952374], [0.000392177578760311, 0.002857126295566559, 0.0008148970664478838, 0.0008299231412820518, 0.0014296229928731918, 0.006510636769235134, 0.001159189036116004, 0.0012885889736935496, 0.0013427254743874073, 0.002391021465882659, 0.0021359494421631098, 0.006960916332900524, 0.0013427254743874073, 0.00683011207729578, 0.00255529023706913, 0.004129402339458466, 0.0008934756624512374, 0.0012321730609983206, 0.004037505015730858, 0.002016200218349695, 0.00499540101736784, 0.002619436476379633, 0.005729560274630785, 0.0013872500276193023, 0.0013427254743874073, 0.002240600064396858, 0.001510688685812056, 0.0012780472170561552], [0.0021484908647835255, 0.0021761187817901373, 0.003221877384930849, 0.000770328682847321, 0.0009270117152482271, 0.0014698696322739124, 0.004372613038867712, 0.0007484554662369192, 0.0034924903884530067, 0.0005778906052000821, 0.001598013681359589, 0.00182796036824584, 0.0034924903884530067, 0.0011055414797738194, 0.001279438380151987, 0.0010255122324451804, 0.009412406012415886, 0.0016362409805878997, 0.0008394201286137104, 0.003322443924844265, 0.001974636921659112, 0.002461087191477418, 0.0013892597053200006, 0.005544350016862154, 0.0034924903884530067, 0.002491230610758066, 0.00044964454718865454, 0.0004501340736169368], [0.0015437627444043756, 0.0018699574284255505, 0.0027158930897712708, 0.00022793748939875513, 0.00032080363598652184, 0.0007595554925501347, 0.004309600219130516, 0.0002780224313028157, 0.0030087665654718876, 0.0001255967654287815, 0.0009318115771748126, 0.001141335815191269, 0.0030087665654718876, 0.00048712719581089914, 0.0005503022694028914, 0.0004667153407353908, 0.013862968422472477, 0.0009121026960201561, 0.00024717795895412564, 0.002934514544904232, 0.0012734568445011973, 0.0014389404095709324, 0.0006512681138701737, 0.005676322150975466, 0.0030087665654718876, 0.001887498889118433, 8.52771190693602e-05, 0.00010113541793543845], [0.002670638496056199, 0.0011558659607544541, 0.0032047692220658064, 0.00028052928973920643, 0.0003147851093672216, 0.00035313545959070325, 0.004931739531457424, 0.00031833292450755835, 0.002816485008224845, 9.104226774070412e-05, 0.0007092885789461434, 0.0005491949850693345, 0.002816485008224845, 0.0002316613681614399, 0.00036384223494678736, 0.00028846634086221457, 0.0177127867937088, 0.0009463725727982819, 0.0001590851170476526, 0.002357702236622572, 0.0006674918113276362, 0.001065174350515008, 0.00036326656118035316, 0.005233570467680693, 0.002816485008224845, 0.0014834742760285735, 8.573597006034106e-05, 0.00011397581693017855], [0.0015255699399858713, 0.0016806992935016751, 0.0026311753317713737, 0.00026875510229729116, 0.00035607776953838766, 0.0008313976577483118, 0.004245696123689413, 0.00033941652509383857, 0.00295887584798038, 0.00018220282800029963, 0.0009612651774659753, 0.0013501063222065568, 0.00295887584798038, 0.0005840053781867027, 0.0006478940485976636, 0.0005766699905507267, 0.01550742145627737, 0.0009888418717309833, 0.00036738914786837995, 0.00283809588290751, 0.0013687306782230735, 0.0017276761354878545, 0.0007846063235774636, 0.0058703189715743065, 0.00295887584798038, 0.002050301991403103, 0.00013097196642775089, 0.00013779746950604022], [0.0022384875919669867, 0.0022759384009987116, 0.003122135763987899, 0.0009052416426129639, 0.0009331195033155382, 0.001483946107327938, 0.004298770800232887, 0.0008970073540695012, 0.0035575751680880785, 0.0006270035519264638, 0.0016890299739316106, 0.0019551508594304323, 0.0035575751680880785, 0.001147997216321528, 0.001299239811487496, 0.0011397800408303738, 0.008973756805062294, 0.0016673188656568527, 0.0008687450317665935, 0.0033880267292261124, 0.0018933637766167521, 0.0024471429642289877, 0.0014152005314826965, 0.005493421107530594, 0.0035575751680880785, 0.0025249177124351263, 0.00048272195272147655, 0.0005233713309280574], [0.0015437627444043756, 0.0018699574284255505, 0.0027158930897712708, 0.00022793748939875513, 0.00032080363598652184, 0.0007595554925501347, 0.004309600219130516, 0.0002780224313028157, 0.0030087665654718876, 0.0001255967654287815, 0.0009318115771748126, 0.001141335815191269, 0.0030087665654718876, 0.00048712719581089914, 0.0005503022694028914, 0.0004667153407353908, 0.013862968422472477, 0.0009121026960201561, 0.00024717795895412564, 0.002934514544904232, 0.0012734568445011973, 0.0014389404095709324, 0.0006512681138701737, 0.005676322150975466, 0.0030087665654718876, 0.001887498889118433, 8.52771190693602e-05, 0.00010113541793543845], [0.0020218242425471544, 0.0009590004337951541, 0.002769207116216421, 0.00022224927670322359, 0.00020375191525090486, 0.0002783027302939445, 0.004206816665828228, 0.00019318662816658616, 0.002850157907232642, 6.965448119444773e-05, 0.000550151220522821, 0.0004172246262896806, 0.002850157907232642, 0.00016506480460520834, 0.0002934571821242571, 0.00020246673375368118, 0.023612050339579582, 0.0006902340683154762, 0.00010926698450930417, 0.0019483787473291159, 0.0004958855570293963, 0.0009437098633497953, 0.0002640992752276361, 0.005352839827537537, 0.002850157907232642, 0.0011927864979952574, 4.625806104741059e-05, 7.512467709602788e-05], [0.0023241243325173855, 0.0009041721350513399, 0.002936605829745531, 0.0001912537554744631, 0.00023422163212671876, 0.00028907001251354814, 0.004330764524638653, 0.00024188189127016813, 0.0024762859102338552, 6.283127004280686e-05, 0.0005697353626601398, 0.0004801829345524311, 0.0024762859102338552, 0.0002112715446855873, 0.00028804203611798584, 0.00023146990861278027, 0.02191055566072464, 0.0007282603764906526, 0.00011559348786249757, 0.0019678149838000536, 0.0005792719894088805, 0.0008438117220066488, 0.0002668600354809314, 0.005028059706091881, 0.0024762859102338552, 0.0011304679792374372, 5.3078943892614916e-05, 7.629777974216267e-05], [0.0020778256002813578, 0.0018317494541406631, 0.0030161242466419935, 0.000565487367566675, 0.0006003910675644875, 0.0010126682464033365, 0.004665049258619547, 0.0005635105771943927, 0.003189828246831894, 0.000323839281918481, 0.0012320410460233688, 0.0014534445945173502, 0.003189828246831894, 0.0008069253526628017, 0.0009363814606331289, 0.0007573988405056298, 0.011828665621578693, 0.0012643863447010517, 0.0004825211362913251, 0.003143360372632742, 0.0014950952026993036, 0.0019792017992585897, 0.0009512729593552649, 0.005891915876418352, 0.003189828246831894, 0.002222717273980379, 0.0002441891119815409, 0.0002531263744458556], [0.0014585404423996806, 0.0005744070513173938, 0.002272512996569276, 8.563027222407982e-05, 8.445016283076257e-05, 0.00013687020691577345, 0.0039392500184476376, 8.089748735073954e-05, 0.0021425136364996433, 2.7278791094431654e-05, 0.0002850390155799687, 0.0002577781560830772, 0.0021425136364996433, 7.054238085402176e-05, 0.0001362180628348142, 8.708636596566066e-05, 0.026748914271593094, 0.00037592550506815314, 4.7773512051207945e-05, 0.0014771469868719578, 0.00034875914570875466, 0.000599909049924463, 0.00012801832053810358, 0.005434335675090551, 0.0021425136364996433, 0.0007162054535001516, 1.6252475688816048e-05, 2.358019264647737e-05], [0.0020620988216251135, 0.00045812816824764013, 0.002804443472996354, 9.802383283386007e-05, 9.489471995038912e-05, 0.0001145772184827365, 0.004258806351572275, 9.492989192949608e-05, 0.0021405597217381, 2.219583075202536e-05, 0.0002861584071069956, 0.00021156940783839673, 0.0021405597217381, 6.906998169142753e-05, 0.00010992056195391342, 8.502941636834294e-05, 0.022598329931497574, 0.00032262681634165347, 3.9676717278780416e-05, 0.0014084812719374895, 0.0002629138180054724, 0.0005053968634456396, 0.00010599126107990742, 0.005883264821022749, 0.0021405597217381, 0.000624526001047343, 1.5586838344461285e-05, 2.264472277602181e-05], [0.0017397577175870538, 0.001984459813684225, 0.002816812600940466, 0.0003082147450186312, 0.00045267987297847867, 0.001073335763067007, 0.004163416102528572, 0.0004806067154277116, 0.002958890050649643, 0.00019706282182596624, 0.0010844235075637698, 0.0016702191205695271, 0.002958890050649643, 0.0008961408166214824, 0.000650992093142122, 0.0007905029924586415, 0.01262988243252039, 0.0010921374196186662, 0.00045535745448432863, 0.002979447366669774, 0.0017482416005805135, 0.0018103958573192358, 0.0010011860867962241, 0.005021831952035427, 0.002958890050649643, 0.002116807270795107, 0.00016131096344906837, 0.00018736720085144043], [0.001428026705980301, 0.0006493956316262484, 0.0023785140365362167, 8.363143570022658e-05, 0.00010623544221743941, 0.0001804576168069616, 0.004461538977921009, 8.367344707949087e-05, 0.00239740451797843, 2.4334784029633738e-05, 0.00034195656189695, 0.00033625776995904744, 0.00239740451797843, 0.0001016982932924293, 0.00015597158926539123, 0.0001093726241379045, 0.022593436762690544, 0.0004054994788020849, 5.057358066551387e-05, 0.0017882946413010359, 0.000378930737497285, 0.0006383692962117493, 0.00016879956820048392, 0.005612372420728207, 0.00239740451797843, 0.0008100841077975929, 1.628048084967304e-05, 2.306878741364926e-05], [0.0016070439014583826, 0.0031172942835837603, 0.0022597326897084713, 0.0014268264640122652, 0.001648477278649807, 0.003017781302332878, 0.0030591117683798075, 0.0015262229135259986, 0.002979154931381345, 0.0018057262059301138, 0.002203234937041998, 0.003482218598946929, 0.002979154931381345, 0.002451328793540597, 0.002489038510248065, 0.002345949411392212, 0.003950934391468763, 0.0020550822373479605, 0.0021925861947238445, 0.0030696538742631674, 0.0033223340287804604, 0.003104256698861718, 0.0030297026969492435, 0.003470782656222582, 0.002979154931381345, 0.002903419081121683, 0.001343150739558041, 0.0012838469119742513], [0.0009676236077211797, 0.0004069519927725196, 0.0016476307064294815, 3.4033917472697794e-05, 4.813780469703488e-05, 6.606827082578093e-05, 0.003591998014599085, 3.5392982681514695e-05, 0.0015445086173713207, 7.077900590957142e-06, 0.00018677624757401645, 0.00016210974717978388, 0.0015445086173713207, 4.2936379031743854e-05, 7.208361785160378e-05, 4.5937926188344136e-05, 0.033940523862838745, 0.00026053719921037555, 1.725358742987737e-05, 0.0012699150247499347, 0.00018476086552254856, 0.00038293818943202496, 7.071872823871672e-05, 0.004149940330535173, 0.0015445086173713207, 0.0005408927681855857, 4.806057859241264e-06, 8.19057459011674e-06], [0.0010316931875422597, 0.0026624412275850773, 0.0016668946482241154, 0.0011342760408297181, 0.0013869453687220812, 0.003313952125608921, 0.00236676842905581, 0.0015712594613432884, 0.0024490889627486467, 0.002214196138083935, 0.0022526548709720373, 0.004656112752854824, 0.0024490889627486467, 0.003845022525638342, 0.002621436258777976, 0.0029338025487959385, 0.004590162541717291, 0.002078443532809615, 0.0027118995785713196, 0.0028443492483347654, 0.0037938165478408337, 0.0037833629176020622, 0.0032448158599436283, 0.0027673819568008184, 0.0024490889627486467, 0.002982031786814332, 0.001455860212445259, 0.0014775595627725124], [0.0013899769401177764, 0.003100179135799408, 0.0022239224053919315, 0.001028010156005621, 0.0012949201045557857, 0.00395336514338851, 0.0028568189591169357, 0.001362463808618486, 0.0026827810797840357, 0.0012545320205390453, 0.0021348034497350454, 0.00450304476544261, 0.0026827810797840357, 0.0027658736798912287, 0.001866591745056212, 0.002825092291459441, 0.0036427166778594255, 0.0014476225478574634, 0.0019511599093675613, 0.0028419021982699633, 0.003996917046606541, 0.0026910719461739063, 0.003083200892433524, 0.003132860641926527, 0.0026827810797840357, 0.002397268544882536, 0.0008928608731366694, 0.0008034537895582616], [0.0015437627444043756, 0.0018699574284255505, 0.0027158930897712708, 0.00022793748939875513, 0.00032080363598652184, 0.0007595554925501347, 0.004309600219130516, 0.0002780224313028157, 0.0030087665654718876, 0.0001255967654287815, 0.0009318115771748126, 0.001141335815191269, 0.0030087665654718876, 0.00048712719581089914, 0.0005503022694028914, 0.0004667153407353908, 0.013862968422472477, 0.0009121026960201561, 0.00024717795895412564, 0.002934514544904232, 0.0012734568445011973, 0.0014389404095709324, 0.0006512681138701737, 0.005676322150975466, 0.0030087665654718876, 0.001887498889118433, 8.52771190693602e-05, 0.00010113541793543845], [0.0015806147130206227, 0.0009897123090922832, 0.002637056400999427, 0.00013117033813614398, 0.0001840416807681322, 0.00034599524224177003, 0.0044706822372972965, 0.00015826321032363921, 0.0026683241594582796, 4.719419666798785e-05, 0.0006046842900104821, 0.0005702205235138535, 0.0026683241594582796, 0.00022574001923203468, 0.0002574239915702492, 0.0002126653416780755, 0.019804593175649643, 0.0006841285503469408, 0.00010866995580727234, 0.0023623972665518522, 0.0006606146926060319, 0.0009244243265129626, 0.0003021869342774153, 0.005553670693188906, 0.0026683241594582796, 0.0012855601962655783, 3.745632784557529e-05, 4.949424328515306e-05], [0.0014374881284311414, 0.00015596458979416639, 0.0017813167069107294, 2.053354910458438e-05, 2.2912028725841083e-05, 1.784416235750541e-05, 0.0030338577926158905, 1.946507654793095e-05, 0.0011936292285099626, 2.0088414203200955e-06, 8.139280544128269e-05, 4.1766299545997754e-05, 0.0011936292285099626, 1.0489660780876875e-05, 2.269306787638925e-05, 1.3466089512803592e-05, 0.03328777477145195, 0.00012272461026441306, 4.753913799504517e-06, 0.0006767089362256229, 5.668451194651425e-05, 0.00015756062930449843, 1.7473494153819047e-05, 0.003889896208420396, 0.0011936292285099626, 0.00023850829165894538, 1.6990983340292587e-06, 3.10263112623943e-06], [0.0023051698226481676, 0.0011779798660427332, 0.0030649672262370586, 0.00033932062797248363, 0.0003614680317696184, 0.0004324830078985542, 0.0046387952752411366, 0.00031560848583467305, 0.0029029184952378273, 0.00011938767420360819, 0.000698202580679208, 0.00075269874650985, 0.0029029184952378273, 0.0003396380925551057, 0.0004470644926186651, 0.0003451932570897043, 0.019301291555166245, 0.0008897733059711754, 0.00021622945496346802, 0.002257554791867733, 0.0008264011703431606, 0.00117321009747684, 0.00047244870802387595, 0.00550223421305418, 0.0029029184952378273, 0.0013674895744770765, 9.666382538853213e-05, 0.00012668535055126995]]]], \"head_maxs\": [[0.011825388297438622, 0.012762398459017277, 0.021197190508246422, 0.033940523862838745]]}}, \"default_filter\": \"all\", \"divId\": \"#vis2\"}"
      ],
      "text/plain": [
       "<IPython.core.display.Javascript object>"
      ]
     },
     "metadata": {},
     "output_type": "display_data"
    },
    {
     "data": {
      "application/javascript": [
       "/**\n",
       " * @fileoverview Transformer Visualization D3 javascript code.\n",
       " *\n",
       " *\n",
       "\n",
       " * Copied (almost literally) from: https://github.com/jessevig/bertviz\n",
       " * Based on: https://github.com/tensorflow/tensor2tensor/blob/master/tensor2tensor/visualization/attention.js\n",
       " */\n",
       "\n",
       "requirejs(['jquery', 'd3'], function($, d3) {\n",
       "\n",
       "  const TEXT_SIZE = 15;\n",
       "  const BOXWIDTH = TEXT_SIZE * 8;\n",
       "  const BOXHEIGHT = TEXT_SIZE * 1.5;\n",
       "  const WIDTH = 2000;\n",
       "  const HEIGHT_PADDING = 100;\n",
       "  const MATRIX_WIDTH = 150;\n",
       "  const HEAD_COLORS = d3.scale.category10();\n",
       "  const CHECKBOX_SIZE = 20;\n",
       "\n",
       "  var params = window.params;\n",
       "  var config = {};\n",
       "  initialize();\n",
       "\n",
       "  function lighten(color) {\n",
       "    var c = d3.hsl(color);\n",
       "    var increment = (1 - c.l) * 0.6;\n",
       "    c.l += increment;\n",
       "    c.s -= increment;\n",
       "    return c;\n",
       "  }\n",
       "\n",
       "  function transpose(mat) {\n",
       "    return mat[0].map(function(col, i) {\n",
       "      return mat.map(function(row) {\n",
       "        return row[i];\n",
       "      });\n",
       "    });\n",
       "  }\n",
       "\n",
       "  function zip(a, b) {\n",
       "    return a.map(function (e, i) {\n",
       "      return [e, b[i]];\n",
       "    });\n",
       "  }\n",
       "\n",
       "  function render() {\n",
       "    var attnData = config.attention[config.filter];\n",
       "    var leftText = attnData.left_text;\n",
       "    var rightText = attnData.right_text;\n",
       "    var attentionHeads = attnData.attn[config.layer];\n",
       "\n",
       "    $(config.divId + \" svg\").empty();\n",
       "    $(config.divId).empty();\n",
       "\n",
       "    var height = config.wordCount * BOXHEIGHT * 2.5 + HEIGHT_PADDING;\n",
       "    var svg = d3.select(config.divId)\n",
       "        .append('svg')\n",
       "        .attr(\"width\", WIDTH)\n",
       "        .attr(\"height\", height);\n",
       "\n",
       "    var attData = [];\n",
       "    for (var i=0; i < config.nHeads; i++) {\n",
       "      var att = attentionHeads[i];\n",
       "      var att_trans = transpose(att);\n",
       "      attData.push(zip(att_trans, att));\n",
       "    }\n",
       "\n",
       "    renderText(svg, leftText, true, attData, 0);\n",
       "    renderText(svg, rightText, false, attData, MATRIX_WIDTH + BOXWIDTH);\n",
       "\n",
       "    renderAttentionHighlights(svg, attData);\n",
       "\n",
       "    svg.append(\"g\").classed(\"attentionHeads\", true);\n",
       "\n",
       "    renderAttention(svg, attentionHeads);\n",
       "\n",
       "    drawCheckboxes(0, svg, attentionHeads);\n",
       "\n",
       "  }\n",
       "\n",
       "  function renderText(svg, text, isLeft, attData, leftPos) {\n",
       "    // attData: list of tuples (att, att_trans), one for each layer. att and att_trans are attention matrics for each layer.\n",
       "    //           att is of shape [nHeads, source_len, target_len)\n",
       "    var id = isLeft ? \"left\" : \"right\";\n",
       "    var textContainer = svg.append(\"svg:g\")\n",
       "        .attr(\"id\", id);\n",
       "\n",
       "    textContainer.append(\"g\").classed(\"attentionBoxes\", true)\n",
       "        .selectAll(\"g\")\n",
       "        .data(attData)\n",
       "        .enter()\n",
       "        .append(\"g\")\n",
       "        .selectAll(\"rect\")\n",
       "        .data(function(d) { return d; })\n",
       "        .enter()\n",
       "        .append(\"rect\")\n",
       "        .attr(\"x\", function(d, i, j) { return leftPos + boxOffsets(j); })\n",
       "        .attr(\"y\", function(d, i) { return (+1) * BOXHEIGHT; })\n",
       "        .attr(\"width\", BOXWIDTH / activeHeads())\n",
       "        .attr(\"height\", function() { return BOXHEIGHT; })\n",
       "        .attr(\"fill\", function(d, i, j) { return HEAD_COLORS(j); })\n",
       "        .style(\"opacity\", 0.0);\n",
       "\n",
       "    var tokenContainer = textContainer.append(\"g\").selectAll(\"g\")\n",
       "        .data(text)\n",
       "        .enter()\n",
       "        .append(\"g\");\n",
       "\n",
       "    tokenContainer.append(\"rect\")\n",
       "        .classed(\"background\", true)\n",
       "        .style(\"opacity\", 0.0)\n",
       "        .attr(\"fill\", \"lightgray\")\n",
       "        .attr(\"x\", leftPos)\n",
       "        .attr(\"y\", function(d, i) { return (i+1) * BOXHEIGHT; })\n",
       "        .attr(\"width\", BOXWIDTH)\n",
       "        .attr(\"height\", BOXHEIGHT);\n",
       "\n",
       "    var textEl = tokenContainer.append(\"text\")\n",
       "        .text(function(d) { return d; })\n",
       "        .attr(\"font-size\", TEXT_SIZE + \"px\")\n",
       "        .style(\"cursor\", \"default\")\n",
       "        .style(\"-webkit-user-select\", \"none\")\n",
       "        .attr(\"x\", leftPos)\n",
       "        .attr(\"y\", function(d, i) { return (i+1) * BOXHEIGHT; });\n",
       "\n",
       "    if (isLeft) {\n",
       "      textEl.style(\"text-anchor\", \"end\")\n",
       "        .attr(\"dx\", BOXWIDTH - TEXT_SIZE)\n",
       "        .attr(\"dy\", TEXT_SIZE);\n",
       "    } else {\n",
       "      textEl.style(\"text-anchor\", \"start\")\n",
       "        .attr(\"dx\", + TEXT_SIZE)\n",
       "        .attr(\"dy\", TEXT_SIZE);\n",
       "    }\n",
       "\n",
       "    tokenContainer.on(\"mouseover\", function(d, index) {\n",
       "      textContainer.selectAll(\".background\")\n",
       "          .style(\"opacity\", function(d, i) { return i == index ? 1.0 : 0.0; });\n",
       "\n",
       "      svg.selectAll(\".attentionHeads\").style(\"display\", \"none\");\n",
       "\n",
       "      svg.selectAll(\".lineHeads\")  // To get the nesting to work.\n",
       "          .selectAll(\".attLines\")\n",
       "          .attr(\"stroke-opacity\", function(d) { return 1.0; })\n",
       "          .attr(\"y1\", function(d, i) {\n",
       "            if (isLeft) {\n",
       "              return (index+1) * BOXHEIGHT + (BOXHEIGHT/2);\n",
       "            } else {\n",
       "              return (i+1) * BOXHEIGHT + (BOXHEIGHT/2);\n",
       "            }\n",
       "          })\n",
       "          .attr(\"x1\", BOXWIDTH)\n",
       "          .attr(\"y2\", function(d, i) {\n",
       "            if (isLeft) {\n",
       "              return (i+1) * BOXHEIGHT + (BOXHEIGHT/2);\n",
       "            } else {\n",
       "              return (index+1) * BOXHEIGHT + (BOXHEIGHT/2);\n",
       "            }\n",
       "          })\n",
       "          .attr(\"x2\", BOXWIDTH + MATRIX_WIDTH)\n",
       "          .attr(\"stroke-width\", 2)\n",
       "          .attr(\"stroke\", function(d, i, j) { return HEAD_COLORS(j); })\n",
       "          .attr(\"stroke-opacity\", function(d, i, j) {\n",
       "            if (isLeft) { d = d[0]; } else { d = d[1]; }\n",
       "            if (config.headVis[j]) {\n",
       "              if (d) {\n",
       "                return config.opacityScales[config.layer][j](d[index]);\n",
       "              } else {\n",
       "                return 0.0;\n",
       "              }\n",
       "            } else {\n",
       "              return 0.0;\n",
       "            }\n",
       "          });\n",
       "\n",
       "      function updateAttentionBoxes() {\n",
       "        var id = isLeft ? \"right\" : \"left\";\n",
       "        var leftPos = isLeft ? MATRIX_WIDTH + BOXWIDTH : 0;\n",
       "        svg.select(\"#\" + id)\n",
       "            .selectAll(\".attentionBoxes\")\n",
       "            .selectAll(\"g\")\n",
       "            .selectAll(\"rect\")\n",
       "            .attr(\"x\", function(d, i, j) { return leftPos + boxOffsets(j); })\n",
       "            .attr(\"y\", function(d, i) { return (i+1) * BOXHEIGHT; })\n",
       "            .attr(\"width\", BOXWIDTH/activeHeads())\n",
       "            .attr(\"height\", function() { return BOXHEIGHT; })\n",
       "            .style(\"opacity\", function(d, i, j) {\n",
       "              if (isLeft) {d = d[0];} else {d = d[1];}\n",
       "              if (config.headVis[j])\n",
       "                if (d) {\n",
       "                  return d[index];\n",
       "                } else {\n",
       "                  return 0.0;\n",
       "                }\n",
       "              else\n",
       "                return 0.0;\n",
       "            });\n",
       "      }\n",
       "\n",
       "      updateAttentionBoxes();\n",
       "    });\n",
       "\n",
       "    textContainer.on(\"mouseleave\", function() {\n",
       "      d3.select(this).selectAll(\".background\")\n",
       "          .style(\"opacity\", 0.0);\n",
       "      svg.selectAll(\".attLines\").attr(\"stroke-opacity\", 0.0);\n",
       "      svg.selectAll(\".attentionHeads\").style(\"display\", \"inline\");\n",
       "      svg.selectAll(\".attentionBoxes\")\n",
       "          .selectAll(\"g\")\n",
       "          .selectAll(\"rect\")\n",
       "          .style(\"opacity\", 0.0);\n",
       "    });\n",
       "  }\n",
       "\n",
       "  function renderAttentionHighlights(svg, attention) {\n",
       "    var line_container = svg.append(\"g\");\n",
       "    line_container.selectAll(\"g\")\n",
       "        .data(attention)\n",
       "        .enter()\n",
       "        .append(\"g\")\n",
       "        .classed(\"lineHeads\", true)\n",
       "        .selectAll(\"line\")\n",
       "        .data(function(d){ return d; })\n",
       "        .enter()\n",
       "        .append(\"line\").classed(\"attLines\", true);\n",
       "  }\n",
       "\n",
       "  function renderAttention(svg, attentionHeads) {\n",
       "    var line_container = svg.selectAll(\".attentionHeads\");\n",
       "    line_container.html(null);\n",
       "    for(var h=0; h<attentionHeads.length; h++) {\n",
       "      for(var s=0; s<attentionHeads[h].length; s++) {\n",
       "        for(var a=0; a<attentionHeads[h][s].length; a++) {\n",
       "          line_container.append(\"line\")\n",
       "              .attr(\"y1\", (s+1) * BOXHEIGHT + (BOXHEIGHT/2))\n",
       "              .attr(\"x1\", BOXWIDTH)\n",
       "              .attr(\"y2\", (a+1) * BOXHEIGHT + (BOXHEIGHT/2))\n",
       "              .attr(\"x2\", BOXWIDTH + MATRIX_WIDTH)\n",
       "              .attr(\"stroke-width\", 2)\n",
       "              .attr(\"stroke\", HEAD_COLORS(h))\n",
       "              .attr(\"stroke-opacity\", function() {\n",
       "                if (config.headVis[h]) {\n",
       "                  return config.opacityScales[config.layer][h](\n",
       "                    attentionHeads[h][s][a])/activeHeads();\n",
       "                } else {\n",
       "                  return 0.0;\n",
       "                }\n",
       "              }());\n",
       "        }\n",
       "      }\n",
       "    }\n",
       "  }\n",
       "\n",
       "  // Checkboxes\n",
       "  function boxOffsets(i) {\n",
       "    var numHeadsAbove = config.headVis.reduce(\n",
       "        function(acc, val, cur) {return val && cur < i ? acc + 1: acc;}, 0);\n",
       "    return numHeadsAbove * (BOXWIDTH / activeHeads());\n",
       "  }\n",
       "\n",
       "  function activeHeads() {\n",
       "    return config.headVis.reduce(function(acc, val) {\n",
       "      return val ? acc + 1: acc;\n",
       "    }, 0);\n",
       "  }\n",
       "\n",
       "  function drawCheckboxes(top, svg, attentionHeads) {\n",
       "    var checkboxContainer = svg.append(\"g\");\n",
       "    var checkbox = checkboxContainer.selectAll(\"rect\")\n",
       "        .data(config.headVis)\n",
       "        .enter()\n",
       "        .append(\"rect\")\n",
       "        .attr(\"fill\", function(d, i) { return HEAD_COLORS(i); })\n",
       "        .attr(\"x\", function(d, i) { return (i+1) * CHECKBOX_SIZE; })\n",
       "        .attr(\"y\", top)\n",
       "        .attr(\"width\", CHECKBOX_SIZE)\n",
       "        .attr(\"height\", CHECKBOX_SIZE);\n",
       "\n",
       "    function updateCheckboxes() {\n",
       "      checkboxContainer.selectAll(\"rect\")\n",
       "            .data(config.headVis)\n",
       "            .attr(\"fill\", function(d, i) {\n",
       "              var headColor = HEAD_COLORS(i);\n",
       "              var color = d ? headColor : lighten(headColor);\n",
       "              return color;\n",
       "            });\n",
       "    }\n",
       "\n",
       "    updateCheckboxes();\n",
       "\n",
       "    checkbox.on(\"click\", function(d, i) {\n",
       "      if (config.headVis[i] && activeHeads() == 1) return;\n",
       "      config.headVis[i] = !config.headVis[i];\n",
       "      updateCheckboxes();\n",
       "      renderAttention(svg, attentionHeads);\n",
       "    });\n",
       "\n",
       "    checkbox.on(\"dblclick\", function(d, i) {\n",
       "      // If we double click on the only active head then reset\n",
       "      if (config.headVis[i] && activeHeads() == 1) {\n",
       "        config.headVis = new Array(config.nHeads).fill(true);\n",
       "      } else {\n",
       "        config.headVis = new Array(config.nHeads).fill(false);\n",
       "        config.headVis[i] = true;\n",
       "      }\n",
       "      updateCheckboxes();\n",
       "      renderAttention(svg, attentionHeads);\n",
       "    });\n",
       "  }\n",
       "\n",
       "  function getOpacityScales(config) {\n",
       "    config.opacityScales = Array(config.nLayers);\n",
       "    for (var layer = config.nLayers - 1; layer >= 0; layer--) {\n",
       "      config.opacityScales[layer] = Array(config.nHeads);\n",
       "      for (var head = config.nHeads - 1; head >= 0; head--) {\n",
       "        var maximum = config.attention[config.filter]['head_maxs'][layer][head];\n",
       "        config.opacityScales[layer][head] = d3.scale.linear()\n",
       "            .domain([0, maximum]).range([0, 0.3]);\n",
       "      }\n",
       "    }\n",
       "  }\n",
       "\n",
       "  function initialize() {\n",
       "    config.attention = params['attention'];\n",
       "    config.filter = params['default_filter'];\n",
       "    config.divId = params['divId'] || '#vis';\n",
       "    config.nLayers = config.attention[config.filter]['attn'].length;\n",
       "    config.nHeads = config.attention[config.filter]['attn'][0].length;\n",
       "    config.headVis  = new Array(config.nHeads).fill(true);\n",
       "    config.layer = 0;\n",
       "    config.wordCount = config.attention[config.filter].right_text.length;\n",
       "    getOpacityScales(config);\n",
       "  }\n",
       "\n",
       "  $(\"#layer\").empty();\n",
       "  for (var i=0; i<config.nLayers; i++) {\n",
       "    $(\"#layer\").append($(\"<option />\").val(i).text(i));\n",
       "  }\n",
       "\n",
       "  $(\"#layer\").on('change', function(e) {\n",
       "    config.layer = +e.currentTarget.value;\n",
       "    render();\n",
       "  });\n",
       "\n",
       "  $(\"#filter\").on('change', function(e) {\n",
       "    config.filter = e.currentTarget.value;\n",
       "    render();\n",
       "  });\n",
       "\n",
       "  render();\n",
       "\n",
       "}, function (err) {\n",
       "    console.log('Required libraries not loading');\n",
       "    console.log(err);\n",
       "});"
      ],
      "text/plain": [
       "<IPython.core.display.Javascript object>"
      ]
     },
     "metadata": {},
     "output_type": "display_data"
    }
   ],
   "source": [
    "show(sentence, attention, word_range=(342, 370))"
   ]
  },
  {
   "cell_type": "code",
   "execution_count": null,
   "metadata": {},
   "outputs": [],
   "source": []
  },
  {
   "cell_type": "code",
   "execution_count": null,
   "metadata": {},
   "outputs": [],
   "source": []
  },
  {
   "cell_type": "code",
   "execution_count": null,
   "metadata": {},
   "outputs": [],
   "source": []
  }
 ],
 "metadata": {
  "kernelspec": {
   "display_name": "Python [conda env:env35] *",
   "language": "python",
   "name": "conda-env-env35-py"
  },
  "language_info": {
   "codemirror_mode": {
    "name": "ipython",
    "version": 3
   },
   "file_extension": ".py",
   "mimetype": "text/x-python",
   "name": "python",
   "nbconvert_exporter": "python",
   "pygments_lexer": "ipython3",
   "version": "3.6.9"
  }
 },
 "nbformat": 4,
 "nbformat_minor": 2
}
