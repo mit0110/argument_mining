{
 "cells": [
  {
   "cell_type": "markdown",
   "metadata": {},
   "source": [
    "http://www.primerpy.com/post/js/d3-visualization-embedded-in-jupyter-notebook/"
   ]
  },
  {
   "cell_type": "code",
   "execution_count": 1,
   "metadata": {},
   "outputs": [],
   "source": [
    "from IPython.core.display import display, HTML\n",
    "from string import Template\n",
    "import json"
   ]
  },
  {
   "cell_type": "code",
   "execution_count": 2,
   "metadata": {},
   "outputs": [
    {
     "data": {
      "text/html": [
       "<script src=\"https://cdnjs.cloudflare.com/ajax/libs/d3/3.5.16/d3.min.js\"></script>"
      ],
      "text/plain": [
       "<IPython.core.display.HTML object>"
      ]
     },
     "execution_count": 2,
     "metadata": {},
     "output_type": "execute_result"
    }
   ],
   "source": [
    "HTML('<script src=\"https://cdnjs.cloudflare.com/ajax/libs/d3/3.5.16/d3.min.js\"></script>')\n",
    "# Tried with version 5 and does not work"
   ]
  },
  {
   "cell_type": "code",
   "execution_count": 3,
   "metadata": {},
   "outputs": [
    {
     "data": {
      "text/html": [
       "\n",
       "<script>\n",
       "if (d3 === undefined) {\n",
       "    console.log('No d3');\n",
       "}\n",
       "</script>"
      ],
      "text/plain": [
       "<IPython.core.display.HTML object>"
      ]
     },
     "execution_count": 3,
     "metadata": {},
     "output_type": "execute_result"
    }
   ],
   "source": [
    "HTML(\"\"\"\n",
    "<script>\n",
    "if (d3 === undefined) {\n",
    "    console.log('No d3');\n",
    "}\n",
    "</script>\"\"\")"
   ]
  },
  {
   "cell_type": "code",
   "execution_count": 4,
   "metadata": {},
   "outputs": [
    {
     "data": {
      "application/javascript": [
       "element.append(\"<div id='animation'></div>\");"
      ],
      "text/plain": [
       "<IPython.core.display.Javascript object>"
      ]
     },
     "metadata": {},
     "output_type": "display_data"
    }
   ],
   "source": [
    "%%javascript\n",
    "element.append(\"<div id='animation'></div>\");"
   ]
  },
  {
   "cell_type": "code",
   "execution_count": 5,
   "metadata": {},
   "outputs": [
    {
     "data": {
      "text/html": [
       "\n",
       "    <script>\n",
       "    console.log('lalalala')\n",
       "    var bogoSVG = d3.select(\"#animation\") \n",
       "      .append(\"svg\")\n",
       "      .attr(\"width\", 300)\n",
       "      .attr(\"height\", 300);    \n",
       "\n",
       "    var data = [{\"cy\": 150, \"cx\": 150, \"r\": 130}] ;\n",
       "    bogoSVG.append(\"circle\")\n",
       "      .style(\"stroke\", \"gray\")\n",
       "      .style(\"fill\", \"cyan\")\n",
       "      .attr(\"r\", data[0]['r'])\n",
       "      .attr(\"cx\", data[0]['cx'])\n",
       "      .attr(\"cy\", data[0]['cy'])\n",
       "      .transition()\n",
       "         .delay(100)\n",
       "         .duration(10000)  \n",
       "         .attr(\"r\", 10)\n",
       "         .attr(\"cx\", data[0]['cx'])\n",
       "         .style(\"fill\", \"blue\"); \n",
       "</script>\n"
      ],
      "text/plain": [
       "<IPython.core.display.HTML object>"
      ]
     },
     "execution_count": 5,
     "metadata": {},
     "output_type": "execute_result"
    }
   ],
   "source": [
    "js_text_template = Template('''\n",
    "    console.log('lalalala')\n",
    "    var bogoSVG = d3.select(\"#$bogoanimation\") \n",
    "      .append(\"svg\")\n",
    "      .attr(\"width\", 300)\n",
    "      .attr(\"height\", 300);    \n",
    "\n",
    "    var data = $python_data ;\n",
    "    bogoSVG.append(\"circle\")\n",
    "      .style(\"stroke\", \"gray\")\n",
    "      .style(\"fill\", \"cyan\")\n",
    "      .attr(\"r\", data[0]['r'])\n",
    "      .attr(\"cx\", data[0]['cx'])\n",
    "      .attr(\"cy\", data[0]['cy'])\n",
    "      .transition()\n",
    "         .delay(100)\n",
    "         .duration(10000)  \n",
    "         .attr(\"r\", 10)\n",
    "         .attr(\"cx\", data[0]['cx'])\n",
    "         .style(\"fill\", \"blue\"); \n",
    "''')\n",
    "\n",
    "html_template = Template('''\n",
    "    <script>$js_text</script>\n",
    "''')\n",
    "\n",
    "js_text = js_text_template.substitute({\n",
    "    'python_data': json.dumps([{'r': 130, 'cx': 150, 'cy': 150}]),\n",
    "    'bogoanimation': 'animation'\n",
    "})\n",
    "\n",
    "HTML(html_template.substitute({'js_text': js_text}))"
   ]
  },
  {
   "cell_type": "code",
   "execution_count": null,
   "metadata": {},
   "outputs": [],
   "source": []
  }
 ],
 "metadata": {
  "kernelspec": {
   "display_name": "Python [conda env:env_am]",
   "language": "python",
   "name": "conda-env-env_am-py"
  },
  "language_info": {
   "codemirror_mode": {
    "name": "ipython",
    "version": 3
   },
   "file_extension": ".py",
   "mimetype": "text/x-python",
   "name": "python",
   "nbconvert_exporter": "python",
   "pygments_lexer": "ipython3",
   "version": "3.5.5"
  }
 },
 "nbformat": 4,
 "nbformat_minor": 2
}
