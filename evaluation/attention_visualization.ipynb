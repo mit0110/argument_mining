{
 "cells": [
  {
   "cell_type": "code",
   "execution_count": 1,
   "metadata": {
    "ExecuteTime": {
     "end_time": "2019-12-14T20:26:52.884318Z",
     "start_time": "2019-12-14T20:26:51.858346Z"
    }
   },
   "outputs": [],
   "source": [
    "import numpy\n",
    "import matplotlib.pyplot as plt\n",
    "import pandas\n",
    "import pickle\n",
    "import os\n",
    "import re\n",
    "import seaborn as sns\n",
    "from sklearn import metrics\n",
    "\n",
    "import visualizations"
   ]
  },
  {
   "cell_type": "code",
   "execution_count": 2,
   "metadata": {
    "ExecuteTime": {
     "end_time": "2019-12-14T20:26:52.894505Z",
     "start_time": "2019-12-14T20:26:52.891163Z"
    }
   },
   "outputs": [],
   "source": [
    "def attention_single_file(filename):\n",
    "    with open(filename, 'rb') as file_:\n",
    "        result = pickle.load(file_)\n",
    "    return result"
   ]
  },
  {
   "cell_type": "code",
   "execution_count": 3,
   "metadata": {
    "ExecuteTime": {
     "end_time": "2019-12-14T20:26:57.450846Z",
     "start_time": "2019-12-14T20:26:57.446068Z"
    }
   },
   "outputs": [],
   "source": [
    "def prediction_filenames(dirname):\n",
    "    return [run_prediction for run_prediction in os.listdir(dirname)\n",
    "            if os.path.isfile(os.path.join(dirname, run_prediction)) and 'predictions' in run_prediction]"
   ]
  },
  {
   "cell_type": "code",
   "execution_count": 4,
   "metadata": {
    "ExecuteTime": {
     "end_time": "2019-12-14T20:26:57.853911Z",
     "start_time": "2019-12-14T20:26:57.850716Z"
    }
   },
   "outputs": [],
   "source": [
    "def labels_single_file(filename):\n",
    "    result = pandas.read_csv(filename, sep='\\t')\n",
    "    return result"
   ]
  },
  {
   "cell_type": "markdown",
   "metadata": {},
   "source": [
    "## Paso 1\n",
    "\n",
    "Corregir el path a los resultados y el nombre de los archivos"
   ]
  },
  {
   "cell_type": "code",
   "execution_count": 5,
   "metadata": {
    "ExecuteTime": {
     "end_time": "2019-12-14T20:27:00.838643Z",
     "start_time": "2019-12-14T20:27:00.828817Z"
    }
   },
   "outputs": [],
   "source": [
    "classifier = '19-10-14-02-22'\n",
    "results_path = '../../results/essays2/claim_detection/paragraph/{classifier}/'.format(\n",
    "        classifier=classifier)\n",
    "dataset = 'dev'\n",
    "attention_file_name = 'attention_essays2_claim_detection_essays2_claim_detection_{}.p'.format(dataset)\n",
    "predictions_file_name = 'predictions_essays2_claim_detection_essays2_claim_detection_{}.conll'.format(dataset)"
   ]
  },
  {
   "cell_type": "markdown",
   "metadata": {},
   "source": [
    "## Paso 2\n",
    "\n",
    "Fix the name of the dataset"
   ]
  },
  {
   "cell_type": "code",
   "execution_count": 6,
   "metadata": {
    "ExecuteTime": {
     "end_time": "2019-12-14T20:27:04.194530Z",
     "start_time": "2019-12-14T20:27:04.058648Z"
    }
   },
   "outputs": [],
   "source": [
    "att_matrix = attention_single_file(results_path + attention_file_name)\n",
    "prediction = labels_single_file(results_path + predictions_file_name)"
   ]
  },
  {
   "cell_type": "code",
   "execution_count": 7,
   "metadata": {
    "ExecuteTime": {
     "end_time": "2019-12-14T20:27:04.968333Z",
     "start_time": "2019-12-14T20:27:04.964063Z"
    }
   },
   "outputs": [],
   "source": [
    "dataset_name = list(att_matrix.keys())[0]"
   ]
  },
  {
   "cell_type": "code",
   "execution_count": 9,
   "metadata": {
    "ExecuteTime": {
     "end_time": "2019-12-14T20:27:33.021795Z",
     "start_time": "2019-12-14T20:27:32.999862Z"
    }
   },
   "outputs": [],
   "source": [
    "prediction.loc[:,'Attention Score'] = numpy.abs(numpy.concatenate(att_matrix[dataset_name]))\n",
    "prediction.loc[:, 'Correct'] = (prediction.Predicted == prediction['True'])"
   ]
  },
  {
   "cell_type": "code",
   "execution_count": 10,
   "metadata": {
    "ExecuteTime": {
     "end_time": "2019-12-14T20:27:34.888210Z",
     "start_time": "2019-12-14T20:27:34.315131Z"
    }
   },
   "outputs": [
    {
     "name": "stderr",
     "output_type": "stream",
     "text": [
      "/home/mteruel/anaconda2/envs/env35/lib/python3.6/site-packages/scipy/stats/stats.py:1713: FutureWarning: Using a non-tuple sequence for multidimensional indexing is deprecated; use `arr[tuple(seq)]` instead of `arr[seq]`. In the future this will be interpreted as an array index, `arr[np.array(seq)]`, which will result either in an error or a different result.\n",
      "  return np.add.reduce(sorted[indexer] * weights, axis=axis) / sumval\n"
     ]
    },
    {
     "data": {
      "image/png": "[encoded data removed]",
      "text/plain": [
       "<Figure size 432x288 with 1 Axes>"
      ]
     },
     "metadata": {
      "needs_background": "light"
     },
     "output_type": "display_data"
    }
   ],
   "source": [
    "sns.distplot(prediction['Attention Score'], bins=10)\n",
    "sns.despine()"
   ]
  },
  {
   "cell_type": "code",
   "execution_count": 11,
   "metadata": {
    "ExecuteTime": {
     "end_time": "2019-12-14T20:27:37.402407Z",
     "start_time": "2019-12-14T20:27:37.276986Z"
    }
   },
   "outputs": [
    {
     "data": {
      "text/plain": [
       "count    14767.000000\n",
       "mean         0.766676\n",
       "std          0.180697\n",
       "min          0.227948\n",
       "25%          0.633004\n",
       "50%          0.822291\n",
       "75%          0.906962\n",
       "max          0.997117\n",
       "Name: Attention Score, dtype: float64"
      ]
     },
     "execution_count": 11,
     "metadata": {},
     "output_type": "execute_result"
    }
   ],
   "source": [
    "prediction['Attention Score'].describe()"
   ]
  },
  {
   "cell_type": "code",
   "execution_count": 13,
   "metadata": {
    "ExecuteTime": {
     "end_time": "2019-12-14T20:27:44.320092Z",
     "start_time": "2019-12-14T20:27:44.294704Z"
    },
    "scrolled": false
   },
   "outputs": [
    {
     "data": {
      "text/html": [
       "<div>\n",
       "<style scoped>\n",
       "    .dataframe tbody tr th:only-of-type {\n",
       "        vertical-align: middle;\n",
       "    }\n",
       "\n",
       "    .dataframe tbody tr th {\n",
       "        vertical-align: top;\n",
       "    }\n",
       "\n",
       "    .dataframe thead th {\n",
       "        text-align: right;\n",
       "    }\n",
       "</style>\n",
       "<table border=\"1\" class=\"dataframe\">\n",
       "  <thead>\n",
       "    <tr style=\"text-align: right;\">\n",
       "      <th></th>\n",
       "      <th>Token</th>\n",
       "      <th>True</th>\n",
       "      <th>Predicted</th>\n",
       "      <th>Sentence</th>\n",
       "      <th>Attention Score</th>\n",
       "      <th>Correct</th>\n",
       "    </tr>\n",
       "  </thead>\n",
       "  <tbody>\n",
       "    <tr>\n",
       "      <th>2339</th>\n",
       "      <td>the</td>\n",
       "      <td>O</td>\n",
       "      <td>O</td>\n",
       "      <td>34</td>\n",
       "      <td>0.378818</td>\n",
       "      <td>True</td>\n",
       "    </tr>\n",
       "    <tr>\n",
       "      <th>2340</th>\n",
       "      <td>world</td>\n",
       "      <td>O</td>\n",
       "      <td>O</td>\n",
       "      <td>34</td>\n",
       "      <td>0.872357</td>\n",
       "      <td>True</td>\n",
       "    </tr>\n",
       "    <tr>\n",
       "      <th>2341</th>\n",
       "      <td>,</td>\n",
       "      <td>O</td>\n",
       "      <td>O</td>\n",
       "      <td>34</td>\n",
       "      <td>0.906962</td>\n",
       "      <td>True</td>\n",
       "    </tr>\n",
       "    <tr>\n",
       "      <th>2342</th>\n",
       "      <td>such</td>\n",
       "      <td>O</td>\n",
       "      <td>O</td>\n",
       "      <td>34</td>\n",
       "      <td>0.710705</td>\n",
       "      <td>True</td>\n",
       "    </tr>\n",
       "    <tr>\n",
       "      <th>2343</th>\n",
       "      <td>as</td>\n",
       "      <td>O</td>\n",
       "      <td>O</td>\n",
       "      <td>34</td>\n",
       "      <td>0.801481</td>\n",
       "      <td>True</td>\n",
       "    </tr>\n",
       "    <tr>\n",
       "      <th>2344</th>\n",
       "      <td>the</td>\n",
       "      <td>O</td>\n",
       "      <td>O</td>\n",
       "      <td>34</td>\n",
       "      <td>0.378818</td>\n",
       "      <td>True</td>\n",
       "    </tr>\n",
       "    <tr>\n",
       "      <th>2345</th>\n",
       "      <td>most</td>\n",
       "      <td>O</td>\n",
       "      <td>O</td>\n",
       "      <td>34</td>\n",
       "      <td>0.903876</td>\n",
       "      <td>True</td>\n",
       "    </tr>\n",
       "    <tr>\n",
       "      <th>2346</th>\n",
       "      <td>popular</td>\n",
       "      <td>O</td>\n",
       "      <td>O</td>\n",
       "      <td>34</td>\n",
       "      <td>0.823056</td>\n",
       "      <td>True</td>\n",
       "    </tr>\n",
       "    <tr>\n",
       "      <th>2347</th>\n",
       "      <td>shoes</td>\n",
       "      <td>O</td>\n",
       "      <td>O</td>\n",
       "      <td>34</td>\n",
       "      <td>0.848554</td>\n",
       "      <td>True</td>\n",
       "    </tr>\n",
       "    <tr>\n",
       "      <th>2348</th>\n",
       "      <td>style</td>\n",
       "      <td>O</td>\n",
       "      <td>O</td>\n",
       "      <td>34</td>\n",
       "      <td>0.738159</td>\n",
       "      <td>True</td>\n",
       "    </tr>\n",
       "    <tr>\n",
       "      <th>2349</th>\n",
       "      <td>this</td>\n",
       "      <td>O</td>\n",
       "      <td>O</td>\n",
       "      <td>34</td>\n",
       "      <td>0.790150</td>\n",
       "      <td>True</td>\n",
       "    </tr>\n",
       "    <tr>\n",
       "      <th>2350</th>\n",
       "      <td>season</td>\n",
       "      <td>O</td>\n",
       "      <td>O</td>\n",
       "      <td>34</td>\n",
       "      <td>0.901213</td>\n",
       "      <td>True</td>\n",
       "    </tr>\n",
       "    <tr>\n",
       "      <th>2351</th>\n",
       "      <td>or</td>\n",
       "      <td>O</td>\n",
       "      <td>O</td>\n",
       "      <td>34</td>\n",
       "      <td>0.531274</td>\n",
       "      <td>True</td>\n",
       "    </tr>\n",
       "    <tr>\n",
       "      <th>2352</th>\n",
       "      <td>the</td>\n",
       "      <td>O</td>\n",
       "      <td>O</td>\n",
       "      <td>34</td>\n",
       "      <td>0.378818</td>\n",
       "      <td>True</td>\n",
       "    </tr>\n",
       "    <tr>\n",
       "      <th>2353</th>\n",
       "      <td>best-liked</td>\n",
       "      <td>O</td>\n",
       "      <td>O</td>\n",
       "      <td>34</td>\n",
       "      <td>0.567242</td>\n",
       "      <td>True</td>\n",
       "    </tr>\n",
       "    <tr>\n",
       "      <th>2354</th>\n",
       "      <td>clothes</td>\n",
       "      <td>O</td>\n",
       "      <td>O</td>\n",
       "      <td>34</td>\n",
       "      <td>0.812703</td>\n",
       "      <td>True</td>\n",
       "    </tr>\n",
       "    <tr>\n",
       "      <th>2355</th>\n",
       "      <td>color</td>\n",
       "      <td>O</td>\n",
       "      <td>O</td>\n",
       "      <td>34</td>\n",
       "      <td>0.855631</td>\n",
       "      <td>True</td>\n",
       "    </tr>\n",
       "    <tr>\n",
       "      <th>2356</th>\n",
       "      <td>this</td>\n",
       "      <td>O</td>\n",
       "      <td>O</td>\n",
       "      <td>34</td>\n",
       "      <td>0.790150</td>\n",
       "      <td>True</td>\n",
       "    </tr>\n",
       "    <tr>\n",
       "      <th>2357</th>\n",
       "      <td>year</td>\n",
       "      <td>O</td>\n",
       "      <td>O</td>\n",
       "      <td>34</td>\n",
       "      <td>0.905080</td>\n",
       "      <td>True</td>\n",
       "    </tr>\n",
       "    <tr>\n",
       "      <th>2358</th>\n",
       "      <td>.</td>\n",
       "      <td>O</td>\n",
       "      <td>O</td>\n",
       "      <td>34</td>\n",
       "      <td>0.997117</td>\n",
       "      <td>True</td>\n",
       "    </tr>\n",
       "    <tr>\n",
       "      <th>2359</th>\n",
       "      <td>However</td>\n",
       "      <td>O</td>\n",
       "      <td>O</td>\n",
       "      <td>34</td>\n",
       "      <td>0.983657</td>\n",
       "      <td>True</td>\n",
       "    </tr>\n",
       "    <tr>\n",
       "      <th>2360</th>\n",
       "      <td>,</td>\n",
       "      <td>O</td>\n",
       "      <td>O</td>\n",
       "      <td>34</td>\n",
       "      <td>0.906962</td>\n",
       "      <td>True</td>\n",
       "    </tr>\n",
       "    <tr>\n",
       "      <th>2361</th>\n",
       "      <td>some</td>\n",
       "      <td>O</td>\n",
       "      <td>O</td>\n",
       "      <td>34</td>\n",
       "      <td>0.651369</td>\n",
       "      <td>True</td>\n",
       "    </tr>\n",
       "    <tr>\n",
       "      <th>2362</th>\n",
       "      <td>people</td>\n",
       "      <td>O</td>\n",
       "      <td>O</td>\n",
       "      <td>34</td>\n",
       "      <td>0.826260</td>\n",
       "      <td>True</td>\n",
       "    </tr>\n",
       "    <tr>\n",
       "      <th>2363</th>\n",
       "      <td>think</td>\n",
       "      <td>O</td>\n",
       "      <td>O</td>\n",
       "      <td>34</td>\n",
       "      <td>0.962138</td>\n",
       "      <td>True</td>\n",
       "    </tr>\n",
       "  </tbody>\n",
       "</table>\n",
       "</div>"
      ],
      "text/plain": [
       "           Token True Predicted  Sentence  Attention Score  Correct\n",
       "2339         the    O         O        34         0.378818     True\n",
       "2340       world    O         O        34         0.872357     True\n",
       "2341           ,    O         O        34         0.906962     True\n",
       "2342        such    O         O        34         0.710705     True\n",
       "2343          as    O         O        34         0.801481     True\n",
       "2344         the    O         O        34         0.378818     True\n",
       "2345        most    O         O        34         0.903876     True\n",
       "2346     popular    O         O        34         0.823056     True\n",
       "2347       shoes    O         O        34         0.848554     True\n",
       "2348       style    O         O        34         0.738159     True\n",
       "2349        this    O         O        34         0.790150     True\n",
       "2350      season    O         O        34         0.901213     True\n",
       "2351          or    O         O        34         0.531274     True\n",
       "2352         the    O         O        34         0.378818     True\n",
       "2353  best-liked    O         O        34         0.567242     True\n",
       "2354     clothes    O         O        34         0.812703     True\n",
       "2355       color    O         O        34         0.855631     True\n",
       "2356        this    O         O        34         0.790150     True\n",
       "2357        year    O         O        34         0.905080     True\n",
       "2358           .    O         O        34         0.997117     True\n",
       "2359     However    O         O        34         0.983657     True\n",
       "2360           ,    O         O        34         0.906962     True\n",
       "2361        some    O         O        34         0.651369     True\n",
       "2362      people    O         O        34         0.826260     True\n",
       "2363       think    O         O        34         0.962138     True"
      ]
     },
     "execution_count": 13,
     "metadata": {},
     "output_type": "execute_result"
    }
   ],
   "source": [
    "prediction[prediction.Sentence == 34][20:45]"
   ]
  },
  {
   "cell_type": "code",
   "execution_count": 14,
   "metadata": {
    "ExecuteTime": {
     "end_time": "2019-12-14T20:27:47.112746Z",
     "start_time": "2019-12-14T20:27:47.107956Z"
    }
   },
   "outputs": [],
   "source": [
    "import json"
   ]
  },
  {
   "cell_type": "code",
   "execution_count": 61,
   "metadata": {
    "ExecuteTime": {
     "end_time": "2019-12-14T20:47:03.486098Z",
     "start_time": "2019-12-14T20:47:03.372917Z"
    }
   },
   "outputs": [],
   "source": [
    "json_words = json.dumps(\n",
    "    prediction[['Token', 'Attention Score', 'Sentence', 'Predicted', 'Correct']].values.tolist()[2359:2500]\n",
    ")"
   ]
  },
  {
   "cell_type": "code",
   "execution_count": 62,
   "metadata": {
    "ExecuteTime": {
     "end_time": "2019-12-14T20:47:03.599593Z",
     "start_time": "2019-12-14T20:47:03.594027Z"
    }
   },
   "outputs": [
    {
     "data": {
      "text/plain": [
       "'[[\"However\", 0.9836567640304565, 34, \"O\", true], [\",\", 0.9069620966911316, 34, \"O\", true], [\"some\", 0.6513687372207642, 34, \"O\", true], [\"people\", 0.8262598514556885, 34, \"O\", true], [\"think\", 0.962137758731842, 34, \"O\", true], [\"that\", 0.9383944869041443, 34, \"O\", true], [\"dressing\", 0.788604736328'"
      ]
     },
     "execution_count": 62,
     "metadata": {},
     "output_type": "execute_result"
    }
   ],
   "source": [
    "json_words[:300]"
   ]
  },
  {
   "cell_type": "markdown",
   "metadata": {},
   "source": [
    "How to run D3 on Jupyter\n",
    "\n",
    "It is still a mistery, and sometimes it does not work, but this worked https://blog.thedataincubator.com/2015/08/embedding-d3-in-an-ipython-notebook/\n"
   ]
  },
  {
   "cell_type": "code",
   "execution_count": 17,
   "metadata": {
    "ExecuteTime": {
     "end_time": "2019-12-14T20:27:52.862797Z",
     "start_time": "2019-12-14T20:27:52.859536Z"
    }
   },
   "outputs": [],
   "source": [
    "from IPython.core.display import display, HTML\n",
    "from string import Template\n",
    "import json"
   ]
  },
  {
   "cell_type": "code",
   "execution_count": 18,
   "metadata": {
    "ExecuteTime": {
     "end_time": "2019-12-14T20:27:53.792603Z",
     "start_time": "2019-12-14T20:27:53.785876Z"
    }
   },
   "outputs": [
    {
     "data": {
      "text/html": [
       "<script src=\"https://cdnjs.cloudflare.com/ajax/libs/d3/3.5.16/d3.min.js\"></script>"
      ],
      "text/plain": [
       "<IPython.core.display.HTML object>"
      ]
     },
     "execution_count": 18,
     "metadata": {},
     "output_type": "execute_result"
    }
   ],
   "source": [
    "HTML('<script src=\"https://cdnjs.cloudflare.com/ajax/libs/d3/3.5.16/d3.min.js\"></script>')"
   ]
  },
  {
   "cell_type": "code",
   "execution_count": 19,
   "metadata": {
    "ExecuteTime": {
     "end_time": "2019-12-14T20:27:55.413315Z",
     "start_time": "2019-12-14T20:27:55.405482Z"
    }
   },
   "outputs": [
    {
     "data": {
      "text/html": [
       "<script src=\"https://d3js.org/d3-color.v1.min.js\"></script>"
      ],
      "text/plain": [
       "<IPython.core.display.HTML object>"
      ]
     },
     "execution_count": 19,
     "metadata": {},
     "output_type": "execute_result"
    }
   ],
   "source": [
    "HTML('<script src=\"https://d3js.org/d3-color.v1.min.js\"></script>')"
   ]
  },
  {
   "cell_type": "code",
   "execution_count": 20,
   "metadata": {
    "ExecuteTime": {
     "end_time": "2019-12-14T20:27:56.106937Z",
     "start_time": "2019-12-14T20:27:56.097512Z"
    }
   },
   "outputs": [
    {
     "data": {
      "text/html": [
       "<script src=\"https://d3js.org/d3-interpolate.v1.min.js\"></script>"
      ],
      "text/plain": [
       "<IPython.core.display.HTML object>"
      ]
     },
     "execution_count": 20,
     "metadata": {},
     "output_type": "execute_result"
    }
   ],
   "source": [
    "HTML('<script src=\"https://d3js.org/d3-interpolate.v1.min.js\"></script>')"
   ]
  },
  {
   "cell_type": "code",
   "execution_count": 49,
   "metadata": {
    "ExecuteTime": {
     "end_time": "2019-12-14T20:40:31.696283Z",
     "start_time": "2019-12-14T20:40:31.690329Z"
    }
   },
   "outputs": [
    {
     "data": {
      "text/html": [
       "<script src=\"https://d3js.org/d3-scale-chromatic.v1.js\"></script>"
      ],
      "text/plain": [
       "<IPython.core.display.HTML object>"
      ]
     },
     "execution_count": 49,
     "metadata": {},
     "output_type": "execute_result"
    }
   ],
   "source": [
    "HTML('<script src=\"https://d3js.org/d3-scale-chromatic.v1.js\"></script>')"
   ]
  },
  {
   "cell_type": "code",
   "execution_count": 41,
   "metadata": {
    "ExecuteTime": {
     "end_time": "2019-12-14T20:37:34.339704Z",
     "start_time": "2019-12-14T20:37:34.332445Z"
    }
   },
   "outputs": [
    {
     "data": {
      "text/html": [
       "<script src=\"textChart.js\"></script>"
      ],
      "text/plain": [
       "<IPython.core.display.HTML object>"
      ]
     },
     "execution_count": 41,
     "metadata": {},
     "output_type": "execute_result"
    }
   ],
   "source": [
    "HTML('<script src=\"textChart.js\"></script>')"
   ]
  },
  {
   "cell_type": "code",
   "execution_count": 42,
   "metadata": {
    "ExecuteTime": {
     "end_time": "2019-12-14T20:37:36.496281Z",
     "start_time": "2019-12-14T20:37:36.491631Z"
    }
   },
   "outputs": [
    {
     "data": {
      "text/html": [
       "<script>\n",
       "if (d3 === undefined) {\n",
       "    alert('No d3 library');\n",
       "}\n",
       "if (TextChart === undefined) {\n",
       "    alert('No Chart library');\n",
       "}\n",
       "</script>"
      ],
      "text/plain": [
       "<IPython.core.display.HTML object>"
      ]
     },
     "execution_count": 42,
     "metadata": {},
     "output_type": "execute_result"
    }
   ],
   "source": [
    "HTML(\"\"\"<script>\n",
    "if (d3 === undefined) {\n",
    "    alert('No d3 library');\n",
    "}\n",
    "if (TextChart === undefined) {\n",
    "    alert('No Chart library');\n",
    "}\n",
    "</script>\"\"\")"
   ]
  },
  {
   "cell_type": "code",
   "execution_count": 48,
   "metadata": {
    "ExecuteTime": {
     "end_time": "2019-12-14T20:40:09.498410Z",
     "start_time": "2019-12-14T20:40:09.491773Z"
    }
   },
   "outputs": [
    {
     "data": {
      "application/javascript": [
       "require.config({\n",
       "    paths: { \n",
       "        d3: 'https://d3js.org/d3.v5.min',\n",
       "        'd3-scale-chromatic': \"https://d3js.org/d3-scale-chromatic.v1.js\"\n",
       "    }\n",
       "});\n"
      ],
      "text/plain": [
       "<IPython.core.display.Javascript object>"
      ]
     },
     "metadata": {},
     "output_type": "display_data"
    }
   ],
   "source": [
    "%%javascript\n",
    "require.config({\n",
    "    paths: { \n",
    "        d3: 'https://d3js.org/d3.v5.min',\n",
    "        'd3-scale-chromatic': \"https://d3js.org/d3-scale-chromatic.v1.js\"\n",
    "    }\n",
    "});"
   ]
  },
  {
   "cell_type": "code",
   "execution_count": 43,
   "metadata": {
    "ExecuteTime": {
     "end_time": "2019-12-14T20:37:39.151947Z",
     "start_time": "2019-12-14T20:37:39.145925Z"
    }
   },
   "outputs": [
    {
     "data": {
      "text/plain": [
       "'[\"for\", 0.622525691986084, 1, \"O\", false], [\"extended\", 0.6259775757789612, 1, \"'"
      ]
     },
     "execution_count": 43,
     "metadata": {},
     "output_type": "execute_result"
    }
   ],
   "source": [
    "json_words[1000:1080]"
   ]
  },
  {
   "cell_type": "code",
   "execution_count": 63,
   "metadata": {
    "ExecuteTime": {
     "end_time": "2019-12-14T20:47:07.227808Z",
     "start_time": "2019-12-14T20:47:07.205860Z"
    }
   },
   "outputs": [
    {
     "data": {
      "text/html": [
       "\n",
       "    <div id='text-container'></div>\n",
       "    <script src=\"textChart.js\"></script>\n",
       "    <script>\n",
       "var nouns = JSON.parse('[[\"However\", 0.9836567640304565, 34, \"O\", true], [\",\", 0.9069620966911316, 34, \"O\", true], [\"some\", 0.6513687372207642, 34, \"O\", true], [\"people\", 0.8262598514556885, 34, \"O\", true], [\"think\", 0.962137758731842, 34, \"O\", true], [\"that\", 0.9383944869041443, 34, \"O\", true], [\"dressing\", 0.788604736328125, 34, \"O\", true], [\"in\", 0.3681811988353729, 34, \"O\", true], [\"a\", 0.622016966342926, 34, \"O\", true], [\"personal\", 0.8495415449142456, 34, \"O\", true], [\"style\", 0.7381591200828552, 34, \"O\", true], [\"should\", 0.8812505006790161, 34, \"O\", true], [\"be\", 0.9272669553756714, 34, \"O\", true], [\"advocated\", 0.9391852617263794, 34, \"O\", true], [\"rather\", 0.6279211044311523, 34, \"O\", true], [\"than\", 0.6773137450218201, 34, \"O\", true], [\"following\", 0.6394244432449341, 34, \"O\", true], [\"fashion\", 0.7120711207389832, 34, \"O\", true], [\"trends\", 0.7239385843276978, 34, \"O\", true], [\".\", 0.9971166253089905, 34, \"O\", true], [\"From\", 0.914731502532959, 34, \"O\", true], [\"my\", 0.9430126547813416, 34, \"O\", true], [\"perspective\", 0.9564312696456909, 34, \"O\", true], [\",\", 0.9069620966911316, 34, \"O\", true], [\"fashion\", 0.7120711207389832, 34, \"I-Claim\", true], [\"trends\", 0.7239385843276978, 34, \"I-Claim\", true], [\"have\", 0.8311260938644409, 34, \"I-Claim\", true], [\"a\", 0.622016966342926, 34, \"I-Claim\", true], [\"more\", 0.7585309147834778, 34, \"I-Claim\", true], [\"essential\", 0.8763815760612488, 34, \"I-Claim\", true], [\"role\", 0.9252266883850098, 34, \"I-Claim\", true], [\"to\", 0.5169041156768799, 34, \"I-Claim\", true], [\"play\", 0.8626202344894409, 34, \"I-Claim\", true], [\"in\", 0.3681811988353729, 34, \"I-Claim\", true], [\"people\", 0.8262598514556885, 34, \"I-Claim\", true], [\"\\'s\", 0.5138444304466248, 34, \"I-Claim\", true], [\"lives\", 0.6936548352241516, 34, \"I-Claim\", true], [\"than\", 0.6773137450218201, 34, \"I-Claim\", true], [\"personal\", 0.8495415449142456, 34, \"I-Claim\", true], [\"dressing\", 0.788604736328125, 34, \"I-Claim\", true], [\"styles\", 0.6762887239456177, 34, \"I-Claim\", true], [\".\", 0.9971166253089905, 34, \"O\", true], [\"This\", 0.8962211012840271, 35, \"O\", true], [\"is\", 0.6208641529083252, 35, \"O\", true], [\"because\", 0.9862760901451111, 35, \"O\", true], [\"following\", 0.6394244432449341, 35, \"I-Claim\", true], [\"fashion\", 0.7120711207389832, 35, \"I-Claim\", true], [\"trends\", 0.7239385843276978, 35, \"I-Claim\", true], [\"enables\", 0.5956936478614807, 35, \"I-Claim\", true], [\"people\", 0.8262598514556885, 35, \"I-Claim\", true], [\"to\", 0.5169041156768799, 35, \"I-Claim\", true], [\"keep\", 0.8558285236358643, 35, \"I-Claim\", true], [\"up\", 0.8583807349205017, 35, \"I-Claim\", true], [\"with\", 0.46953943371772766, 35, \"I-Claim\", true], [\"the\", 0.3788177967071533, 35, \"I-Claim\", true], [\"world\", 0.8723570108413696, 35, \"I-Claim\", true], [\"\\'s\", 0.5138444304466248, 35, \"I-Claim\", true], [\"latest\", 0.7080806493759155, 35, \"I-Claim\", true], [\"transformations\", 0.758815348148346, 35, \"I-Claim\", true], [\",\", 0.9069620966911316, 35, \"I-Claim\", true], [\"which\", 0.8005734086036682, 35, \"I-Claim\", true], [\"is\", 0.6208641529083252, 35, \"I-Claim\", true], [\"of\", 0.3652220070362091, 35, \"I-Claim\", true], [\"vital\", 0.8640084266662598, 35, \"I-Claim\", true], [\"importance\", 0.9395396709442139, 35, \"I-Claim\", true], [\"if\", 0.8827837705612183, 35, \"I-Claim\", true], [\"we\", 0.9181267023086548, 35, \"I-Claim\", true], [\"consider\", 0.941013753414154, 35, \"I-Claim\", true], [\"the\", 0.3788177967071533, 35, \"I-Claim\", true], [\"fact\", 0.9311854243278503, 35, \"I-Claim\", true], [\"that\", 0.9383944869041443, 35, \"I-Claim\", true], [\"people\", 0.8262598514556885, 35, \"I-Claim\", true], [\"are\", 0.769960880279541, 35, \"I-Claim\", true], [\"living\", 0.6931670904159546, 35, \"I-Claim\", true], [\"in\", 0.3681811988353729, 35, \"I-Claim\", true], [\"a\", 0.622016966342926, 35, \"I-Claim\", true], [\"global\", 0.7316065430641174, 35, \"I-Claim\", true], [\"village\", 0.5752115845680237, 35, \"I-Claim\", true], [\"today\", 0.8292885422706604, 35, \"I-Claim\", true], [\".\", 0.9971166253089905, 35, \"O\", true], [\"When\", 0.9440885186195374, 35, \"O\", true], [\"individuals\", 0.7054024934768677, 35, \"O\", true], [\"keep\", 0.8558285236358643, 35, \"O\", true], [\"the\", 0.3788177967071533, 35, \"O\", true], [\"habit\", 0.9128997921943665, 35, \"O\", true], [\"of\", 0.3652220070362091, 35, \"O\", true], [\"grasping\", 0.8310372233390808, 35, \"O\", true], [\"the\", 0.3788177967071533, 35, \"O\", true], [\"world\", 0.8723570108413696, 35, \"O\", true], [\"\\'s\", 0.5138444304466248, 35, \"O\", true], [\"cutting-edge\", 0.7882832884788513, 35, \"O\", true], [\"fashion\", 0.7120711207389832, 35, \"O\", true], [\"information\", 0.7948737144470215, 35, \"O\", true], [\",\", 0.9069620966911316, 35, \"O\", true], [\"they\", 0.8373348712921143, 35, \"O\", true], [\"are\", 0.769960880279541, 35, \"O\", true], [\"gradually\", 0.7728941440582275, 35, \"O\", true], [\"changing\", 0.7581451535224915, 35, \"O\", true], [\"their\", 0.5714631676673889, 35, \"O\", true], [\"attitudes\", 0.9029603600502014, 35, \"O\", true], [\"to\", 0.5169041156768799, 35, \"O\", true], [\"viewing\", 0.8901755213737488, 35, \"O\", true], [\"the\", 0.3788177967071533, 35, \"O\", true], [\"world\", 0.8723570108413696, 35, \"O\", true], [\",\", 0.9069620966911316, 35, \"O\", true], [\"which\", 0.8005734086036682, 35, \"O\", true], [\"means\", 0.8154656291007996, 35, \"O\", true], [\"they\", 0.8373348712921143, 35, \"O\", true], [\"are\", 0.769960880279541, 35, \"O\", true], [\"more\", 0.7585309147834778, 35, \"O\", true], [\"open\", 0.7060918211936951, 35, \"O\", true], [\"to\", 0.5169041156768799, 35, \"O\", true], [\"accept\", 0.974428117275238, 35, \"O\", true], [\"diverse\", 0.7923190593719482, 35, \"O\", true], [\"voices\", 0.8612656593322754, 35, \"O\", true], [\"from\", 0.505635678768158, 35, \"O\", true], [\"people\", 0.8262598514556885, 35, \"O\", true], [\"around\", 0.5624092817306519, 35, \"O\", true], [\"the\", 0.3788177967071533, 35, \"O\", true], [\"world\", 0.8723570108413696, 35, \"O\", true], [\".\", 0.9971166253089905, 35, \"O\", true], [\"In\", 0.748790979385376, 35, \"O\", true], [\"contrast\", 0.8115425705909729, 35, \"O\", true], [\",\", 0.9069620966911316, 35, \"O\", true], [\"if\", 0.8827837705612183, 35, \"O\", true], [\"they\", 0.8373348712921143, 35, \"O\", true], [\"stuck\", 0.7609298825263977, 35, \"O\", true], [\"to\", 0.5169041156768799, 35, \"O\", true], [\"their\", 0.5714631676673889, 35, \"O\", true], [\"own\", 0.6932695508003235, 35, \"O\", true], [\"fashion\", 0.7120711207389832, 35, \"O\", true], [\"styles\", 0.6762887239456177, 35, \"O\", true], [\",\", 0.9069620966911316, 35, \"O\", true], [\"disregarding\", 0.8989325761795044, 35, \"O\", true], [\"the\", 0.3788177967071533, 35, \"O\", true], [\"world\", 0.8723570108413696, 35, \"O\", true], [\"\\'s\", 0.5138444304466248, 35, \"O\", true], [\"top\", 0.7842034101486206, 35, \"O\", true], [\"fashion\", 0.7120711207389832, 35, \"O\", true], [\"designers\", 0.8106150031089783, 35, \"O\", true], [\"\\'\", 0.7701022028923035, 35, \"O\", true]]');\n",
       "\n",
       "opts = {\n",
       "  lineHeight: 16,\n",
       "  width: 900,\n",
       "  height: 600,\n",
       "  linePadding: 10,\n",
       "  useColor: false,\n",
       "  labelColors: {\n",
       "    'B-Claim': '#FF5964',\n",
       "    'I-Claim': '#FF5964',\n",
       "    'B-Premise': '#35A7FF',  // blue\n",
       "    'I-Premise': '#35A7FF',\n",
       "    'O': '#AAAAAA'\n",
       "  }\n",
       "}\n",
       "chart = new TextChart(nouns, opts);\n",
       "chart.draw('text-container');\n",
       "</script>\n"
      ],
      "text/plain": [
       "<IPython.core.display.HTML object>"
      ]
     },
     "execution_count": 63,
     "metadata": {},
     "output_type": "execute_result"
    }
   ],
   "source": [
    "js_text_template = Template(\"\"\"\n",
    "var nouns = JSON.parse('$json_data');\n",
    "\n",
    "opts = {\n",
    "  lineHeight: 16,\n",
    "  width: 900,\n",
    "  height: 600,\n",
    "  linePadding: 10,\n",
    "  useColor: false,\n",
    "  labelColors: {\n",
    "    'B-Claim': '#FF5964',\n",
    "    'I-Claim': '#FF5964',\n",
    "    'B-Premise': '#35A7FF',  // blue\n",
    "    'I-Premise': '#35A7FF',\n",
    "    'O': '#AAAAAA'\n",
    "  }\n",
    "}\n",
    "chart = new TextChart(nouns, opts);\n",
    "chart.draw('text-container');\n",
    "\"\"\")\n",
    "\n",
    "html_template = Template(\"\"\"\n",
    "    <div id='text-container'></div>\n",
    "    <script src=\"textChart.js\"></script>\n",
    "    <script>$js_text</script>\n",
    "\"\"\")\n",
    "\n",
    "js_text = js_text_template.substitute({\n",
    "    'json_data': json_words.replace(\"'\", \"\\\\'\")\n",
    "})\n",
    "\n",
    "HTML(html_template.substitute({'js_text': js_text}))"
   ]
  },
  {
   "cell_type": "code",
   "execution_count": 64,
   "metadata": {
    "ExecuteTime": {
     "end_time": "2019-12-14T20:47:42.680281Z",
     "start_time": "2019-12-14T20:47:42.436242Z"
    },
    "scrolled": true
   },
   "outputs": [
    {
     "name": "stdout",
     "output_type": "stream",
     "text": [
      "16 .\n",
      "14 Because\n",
      "14 Reasons\n",
      "14 Furthermore\n",
      "13 Successful\n",
      "12 Nevertheless\n",
      "12 ?\n",
      "12 Despite\n",
      "11 Fatherhood\n",
      "11 Obviously\n",
      "10 because\n",
      "10 Just\n",
      "10 blame\n",
      "9 Nonetheless\n",
      "9 Regardless\n",
      "9 Fossil\n",
      "9 However\n",
      "8 believe\n",
      "8 U.S\n",
      "8 Apparently\n",
      "8 conclusion\n",
      "8 He\n",
      "8 I\n",
      "8 assume\n",
      "8 Personally\n",
      "7 Research\n",
      "7 favour\n",
      "7 favor\n",
      "7 Yet\n",
      "7 Benefits\n",
      "6 Academic\n",
      "6 Taxes\n",
      "6 suppose\n",
      "6 approve\n",
      "6 Admittedly\n",
      "6 Firstly\n",
      "6 Whatsapp\n",
      "6 burden\n",
      "6 Thus\n",
      "5 aware\n",
      "5 Friday\n",
      "5 opinion\n",
      "5 balance\n",
      "5 Museums\n",
      "5 My\n",
      "5 Hence\n",
      "5 discuss\n",
      "5 Moreover\n",
      "4 Indeed\n",
      "4 So\n",
      "4 Young\n",
      "4 focus\n",
      "4 Undoubtedly\n",
      "4 Therefore\n",
      "4 absolutely\n",
      "4 We\n",
      "4 Law\n",
      "4 Star\n",
      "4 critical\n",
      "4 Wealth\n",
      "4 War\n",
      "4 If\n",
      "4 conclude\n",
      "4 accept\n",
      "3 drawbacks\n",
      "3 sure\n",
      "3 Perhaps\n",
      "3 Health\n",
      "3 doubt\n",
      "3 Researches\n",
      "3 Reading\n",
      "3 argue\n",
      "3 State\n",
      "3 cause\n",
      "3 Maybe\n",
      "3 Economic\n",
      "3 Labor\n",
      "2 complain\n",
      "2 Consider\n",
      "2 ;\n",
      "2 That\n",
      "2 credibility\n",
      "2 But\n",
      "2 What\n",
      "2 Preserving\n",
      "2 Never\n",
      "2 Pedro\n",
      "2 Although\n",
      "2 belief\n",
      "2 Secondly\n",
      "2 saying\n",
      "1 account\n",
      "1 outcome\n",
      "1 Raising\n",
      "1 facts\n",
      "1 Consequently\n",
      "1 bad\n",
      "1 idea\n",
      "1 Government\n",
      "1 Kevin\n",
      "1 Intrinsic\n",
      "1 CO2\n",
      "1 Biodiversity\n",
      "1 succeed\n",
      "1 stating\n",
      "0 Part-time\n",
      "0 appreciate\n",
      "0 Actually\n",
      "0 MSN\n",
      "0 Whether\n",
      "0 capable\n",
      "0 Parents\n",
      "0 assure\n",
      "0 probability\n",
      "0 extracurricular\n",
      "0 Japan\n",
      "0 obstacle\n",
      "0 devote\n",
      "0 Further\n"
     ]
    }
   ],
   "source": [
    "att_words = prediction[prediction['Attention Score'] > 0.967].Token.unique()\n",
    "attentions_big = [prediction[prediction.Token == x]['Attention Score'].iloc[0] for x in att_words]\n",
    "att_list = [(y, x) for y, x in reversed(sorted(zip(attentions_big, att_words)))]\n",
    "for att, word in att_list:\n",
    "    print(int((att-min(attentions_big))*550), word)"
   ]
  },
  {
   "cell_type": "code",
   "execution_count": null,
   "metadata": {},
   "outputs": [],
   "source": []
  },
  {
   "cell_type": "code",
   "execution_count": null,
   "metadata": {},
   "outputs": [],
   "source": []
  },
  {
   "cell_type": "code",
   "execution_count": null,
   "metadata": {},
   "outputs": [],
   "source": []
  }
 ],
 "metadata": {
  "kernelspec": {
   "display_name": "Python [conda env:env35] *",
   "language": "python",
   "name": "conda-env-env35-py"
  },
  "language_info": {
   "codemirror_mode": {
    "name": "ipython",
    "version": 3
   },
   "file_extension": ".py",
   "mimetype": "text/x-python",
   "name": "python",
   "nbconvert_exporter": "python",
   "pygments_lexer": "ipython3",
   "version": "3.6.9"
  }
 },
 "nbformat": 4,
 "nbformat_minor": 2
}
